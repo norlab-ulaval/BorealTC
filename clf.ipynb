{
 "cells": [
  {
   "cell_type": "code",
   "execution_count": null,
   "metadata": {},
   "outputs": [],
   "source": [
    "from itertools import chain\n",
    "from pathlib import Path\n",
    "\n",
    "import pandas as pd\n",
    "from sklearn.ensemble import RandomForestClassifier\n",
    "from sklearn.model_selection import train_test_split\n",
    "from sklearn.neural_network import MLPClassifier\n",
    "\n",
    "from utils import preprocessing"
   ]
  },
  {
   "cell_type": "code",
   "execution_count": null,
   "metadata": {},
   "outputs": [],
   "source": [
    "# Define channels\n",
    "columns = {\n",
    "    \"imu\": {\n",
    "        \"wx\": True,\n",
    "        \"wy\": True,\n",
    "        \"wz\": True,\n",
    "        \"ax\": True,\n",
    "        \"ay\": True,\n",
    "        \"az\": True,\n",
    "    },\n",
    "    \"pro\": {\n",
    "        \"velL\": True,\n",
    "        \"velR\": True,\n",
    "        \"curL\": True,\n",
    "        \"curR\": True,\n",
    "    },\n",
    "}\n",
    "summary = pd.DataFrame({\"columns\": pd.Series(columns)})\n",
    "\n",
    "csv_dir = Path(\"norlab-data\")"
   ]
  },
  {
   "cell_type": "code",
   "execution_count": null,
   "metadata": {},
   "outputs": [],
   "source": [
    "X_cols = [[k for k, v in ch.items() if v] for ch in columns.values()]\n",
    "X_cols = list(chain.from_iterable(X_cols))\n",
    "\n",
    "# Get recordings\n",
    "data = preprocessing.get_recordings(csv_dir, summary)\n",
    "merged = preprocessing.merge_upsample(data, summary, mode=\"last\")\n",
    "\n",
    "X = merged[X_cols].copy()\n",
    "y = merged.terrain.copy()\n",
    "\n",
    "X_train, X_test, y_train, y_test = train_test_split(X, y, stratify=y, test_size=0.3)"
   ]
  },
  {
   "cell_type": "code",
   "execution_count": null,
   "metadata": {},
   "outputs": [],
   "source": [
    "rf_clf = RandomForestClassifier(n_estimators=500, oob_score=True)\n",
    "rf_clf.fit(X_train, y_train)\n",
    "\n",
    "y_pred = rf_clf.predict(X_test)\n",
    "print(rf_clf.score(X_test, y_test))"
   ]
  },
  {
   "cell_type": "code",
   "execution_count": null,
   "metadata": {},
   "outputs": [],
   "source": [
    "rf_clf = MLPClassifier(max_iter=750)\n",
    "rf_clf.fit(X_train, y_train)\n",
    "\n",
    "y_pred = rf_clf.predict(X_test)\n",
    "print(rf_clf.score(X_test, y_test))"
   ]
  }
 ],
 "metadata": {
  "kernelspec": {
   "display_name": "venv",
   "language": "python",
   "name": "python3"
  },
  "language_info": {
   "name": "python",
   "version": "3.10.12"
  }
 },
 "nbformat": 4,
 "nbformat_minor": 2
}
