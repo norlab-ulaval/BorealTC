{
 "cells": [
  {
   "cell_type": "code",
   "execution_count": null,
   "metadata": {},
   "outputs": [],
   "source": [
    "from pathlib import Path\n",
    "\n",
    "import matplotlib as mpl\n",
    "import matplotlib.pyplot as plt\n",
    "import numpy as np\n",
    "import pandas as pd\n",
    "from scipy import stats\n",
    "\n",
    "from utils import preprocessing\n",
    "from utils.constants import PLOTCOLORS, ch_cols\n",
    "\n",
    "RANDOM_STATE = 21\n",
    "\n",
    "cwd = Path.cwd()\n",
    "husky_data = cwd / \"data\" / \"borealtc\"\n",
    "vulpi_data = cwd / \"data\" / \"vulpi\"\n",
    "figs_path = cwd / \"analysis\" / \"figs\"\n",
    "figs_path.mkdir(parents=True, exist_ok=True)\n",
    "\n",
    "# COLORS = {\n",
    "#     \"base\": PLOTCOLORS[\"dirt road\"],\n",
    "#     \"ours\": PLOTCOLORS[\"concrete\"],\n",
    "# }"
   ]
  },
  {
   "cell_type": "code",
   "execution_count": null,
   "metadata": {},
   "outputs": [],
   "source": [
    "# Define channels\n",
    "columns = {\n",
    "    \"imu\": {\n",
    "        \"wx\": True,\n",
    "        \"wy\": True,\n",
    "        \"wz\": True,\n",
    "        \"ax\": True,\n",
    "        \"ay\": True,\n",
    "        \"az\": True,\n",
    "    },\n",
    "    \"pro\": {\n",
    "        \"velL\": True,\n",
    "        \"velR\": True,\n",
    "        \"curL\": True,\n",
    "        \"curR\": True,\n",
    "    },\n",
    "}\n",
    "summary = pd.DataFrame({\"columns\": pd.Series(columns)})"
   ]
  },
  {
   "cell_type": "code",
   "execution_count": null,
   "metadata": {},
   "outputs": [],
   "source": [
    "husky_summ = summary.copy()\n",
    "vulpi_summ = summary.copy()\n",
    "\n",
    "husky_dfs = preprocessing.get_recordings(husky_data, husky_summ)\n",
    "vulpi_dfs = preprocessing.get_recordings(vulpi_data, vulpi_summ)\n",
    "\n",
    "husky_pro = husky_dfs[\"pro\"].copy()\n",
    "vulpi_pro = vulpi_dfs[\"pro\"].copy()"
   ]
  },
  {
   "cell_type": "code",
   "execution_count": null,
   "metadata": {},
   "outputs": [],
   "source": [
    "# Set data partition parameters\n",
    "N_FOLDS = 5\n",
    "PART_WINDOW = 5  # seconds\n",
    "\n",
    "# Data partition and sample extraction\n",
    "train, test = preprocessing.partition_data(\n",
    "    husky_dfs,\n",
    "    husky_summ,\n",
    "    PART_WINDOW,\n",
    "    N_FOLDS,\n",
    "    random_state=RANDOM_STATE,\n",
    ")"
   ]
  },
  {
   "cell_type": "code",
   "execution_count": null,
   "metadata": {},
   "outputs": [],
   "source": [
    "train_imu = train[0][\"imu\"]\n",
    "train_pro = train[0][\"pro\"]\n",
    "imu_parts = train_imu[[0, 1000], :, :]\n",
    "pro_parts = train_pro[[0, 1000], :, :]\n",
    "imu_data = imu_parts[:, :, ch_cols[\"time\"] :]\n",
    "pro_data = pro_parts[:, :, ch_cols[\"time\"] :]\n",
    "\n",
    "imu_data[1, :, 0] = imu_data[1, :, 0] - imu_data[1, 0, 0] + 5\n",
    "pro_data[1, :, 0] = pro_data[1, :, 0] - pro_data[1, 0, 0] + 5\n",
    "# imu_data[1, :, 0] = imu_data[1, :, 0] - imu_data[1, 0, 0] + imu_data[0, -1, 0]\n",
    "# pro_data[1, :, 0] = pro_data[1, :, 0] - pro_data[1, 0, 0] + pro_data[0, -1, 0]\n",
    "terrains = imu_parts[:, 0, ch_cols[\"terrain\"]].tolist()\n",
    "labels = [terr.replace(\"_\", \" \").title() for terr in terrains]"
   ]
  },
  {
   "cell_type": "code",
   "execution_count": null,
   "metadata": {},
   "outputs": [],
   "source": [
    "husky_dfs[\"imu\"].columns.values, husky_dfs[\"pro\"].columns.values"
   ]
  },
  {
   "cell_type": "code",
   "execution_count": null,
   "metadata": {},
   "outputs": [],
   "source": [
    "with plt.style.context(\"analysis/figure.mplstyle\"):\n",
    "    fig, axs = plt.subplots(nrows=4, gridspec_kw={\"hspace\": 0.05}, figsize=(3, 5))\n",
    "    for idx, lab in enumerate(labels):\n",
    "        axs[0].plot(\n",
    "            imu_data[idx, :, 0],\n",
    "            imu_data[idx, :, 1],\n",
    "            color=PLOTCOLORS[lab.lower()],\n",
    "            label=lab,\n",
    "        )\n",
    "        axs[1].plot(\n",
    "            imu_data[idx, :, 0],\n",
    "            imu_data[idx, :, 4],\n",
    "            color=PLOTCOLORS[lab.lower()],\n",
    "            # label=lab,\n",
    "        )\n",
    "        axs[2].plot(\n",
    "            pro_data[idx, :, 0],\n",
    "            pro_data[idx, :, 1],\n",
    "            color=PLOTCOLORS[lab.lower()],\n",
    "            # label=lab,\n",
    "        )\n",
    "        axs[3].plot(\n",
    "            pro_data[idx, :, 0],\n",
    "            pro_data[idx, :, 3],\n",
    "            color=PLOTCOLORS[lab.lower()],\n",
    "            # label=lab,\n",
    "        )\n",
    "    fig.legend(loc=\"center left\", bbox_to_anchor=(0.95, 0.5))\n",
    "    # axs[-1].set_xlabel(\"Time (s)\")\n",
    "\n",
    "    # axs[0].set_ylabel(\"$\\\\omega_x$ $(rad/s)$\", rotation=0, ha=\"right\", va=\"center\")\n",
    "    # axs[1].set_ylabel(\"$a_x$ $(m/s^2)$\", rotation=0, ha=\"right\", va=\"center\")\n",
    "    # axs[2].set_ylabel(\"$v_L$ $(m/s)$\", rotation=0, ha=\"right\", va=\"center\")\n",
    "    # axs[3].set_ylabel(\"$I_L$ $(A)$\", rotation=0, ha=\"right\", va=\"center\")\n",
    "\n",
    "    for idx, ax in enumerate(axs):\n",
    "        ax.set_xlim(left=0, right=10)\n",
    "        ax.spines[[\"right\", \"top\"]].set_visible(False)\n",
    "        ax.yaxis.set_label_coords(-0.05, 0.5)\n",
    "        ax.set_yticks([])\n",
    "        if ax == axs[-1]:\n",
    "            ax.xaxis.set_minor_locator(mpl.ticker.AutoMinorLocator())\n",
    "        else:\n",
    "            ax.set_xticks([])\n",
    "            ax.spines[[\"bottom\"]].set_visible(False)\n",
    "\n",
    "        ax.axvline(x=5, color=\"xkcd:blue/grey\", linestyle=\"--\")\n",
    "\n",
    "    fig.tight_layout()\n",
    "    fig.savefig(figs_path / \"signals.pdf\", bbox_inches=\"tight\")"
   ]
  }
 ],
 "metadata": {
  "kernelspec": {
   "display_name": "venv",
   "language": "python",
   "name": "python3"
  },
  "language_info": {
   "codemirror_mode": {
    "name": "ipython",
    "version": 3
   },
   "file_extension": ".py",
   "mimetype": "text/x-python",
   "name": "python",
   "nbconvert_exporter": "python",
   "pygments_lexer": "ipython3",
   "version": "3.10.12"
  }
 },
 "nbformat": 4,
 "nbformat_minor": 2
}
