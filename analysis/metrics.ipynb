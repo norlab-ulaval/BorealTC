{
 "cells": [
  {
   "cell_type": "code",
   "execution_count": null,
   "metadata": {},
   "outputs": [],
   "source": [
    "from pathlib import Path\n",
    "\n",
    "import matplotlib.pyplot as plt\n",
    "import numpy as np\n",
    "import pandas as pd\n",
    "from sklearn.metrics import (\n",
    "    ConfusionMatrixDisplay,\n",
    "    accuracy_score,\n",
    "    f1_score,\n",
    "    precision_score,\n",
    "    recall_score,\n",
    ")"
   ]
  },
  {
   "cell_type": "code",
   "execution_count": null,
   "metadata": {},
   "outputs": [],
   "source": [
    "# results_dir = Path(\"results\") / \"vulpi\"\n",
    "# results_dir = Path(\"results\") / \"husky\"\n",
    "results_dir = Path(\"results\") / \"data_concat\"\n",
    "\n",
    "values = np.load(\n",
    "    results_dir / \"results_tsne_full_CNN_mw_1.7.npy\", allow_pickle=True\n",
    ").item()\n",
    "# values = np.load(results_dir / \"results_CNN_hamming_mw_1.7.npy\", allow_pickle=True).item()\n",
    "# values = np.load(results_dir / \"results_tsne_full_CNN_mw_1.7.npy\", allow_pickle=True).item()\n",
    "# values = np.load(results_dir / \"results_tsne_CNN_mw_1.7.npy\", allow_pickle=True).item()\n",
    "# values = np.load(results_dir / \"results_CNN_optim6_mw_1.7.npy\", allow_pickle=True).item()\n",
    "# values = np.load(results_dir / \"results_CNN_hamming_mw_1.7.npy\", allow_pickle=True).item()\n",
    "# values = np.load(results_dir / \"results_hamming_aug_CNN_mw_1.7.npy\", allow_pickle=True).item()\n",
    "terrains = np.array([t for t in values[\"terrains\"] if t != \"MIXED\"])\n",
    "inv_terrains = {t: i for i, t in enumerate(terrains)}\n",
    "values"
   ]
  },
  {
   "cell_type": "code",
   "execution_count": null,
   "metadata": {},
   "outputs": [],
   "source": [
    "clf_values = values\n",
    "\n",
    "\n",
    "# clf_values = values[1700]\n",
    "\n",
    "\n",
    "def convert_to_int(x):\n",
    "    if x.dtype == str:\n",
    "        return np.array([inv_terrains[t] for t in x])\n",
    "    return x\n",
    "\n",
    "\n",
    "ypred = convert_to_int(clf_values[\"pred\"])\n",
    "ytest = convert_to_int(clf_values[\"true\"])\n",
    "terr_pred = terrains[ypred]\n",
    "terr_test = terrains[ytest]\n",
    "terrains = [\n",
    "    \"CONCRETE\",\n",
    "    \"DIRT_ROAD\",\n",
    "    \"PLOUGHED\",\n",
    "    \"UNPLOUGHED\",\n",
    "    \"ASPHALT\",\n",
    "    \"FLOORING\",\n",
    "    \"ICE\",\n",
    "    \"SANDY_LOAM\",\n",
    "    \"SNOW\",\n",
    "]\n",
    "vulpi_terrain = [\"CONCRETE\", \"DIRT_ROAD\", \"PLOUGHED\", \"UNPLOUGHED\"]"
   ]
  },
  {
   "cell_type": "code",
   "execution_count": null,
   "metadata": {},
   "outputs": [],
   "source": [
    "terrains = [\n",
    "    \"CONCRETE\",\n",
    "    \"DIRT_ROAD\",\n",
    "    \"PLOUGHED\",\n",
    "    \"UNPLOUGHED\",\n",
    "    \"ASPHALT\",\n",
    "    \"FLOORING\",\n",
    "    \"ICE\",\n",
    "    \"SANDY_LOAM\",\n",
    "    \"SNOW\",\n",
    "]\n",
    "disp = ConfusionMatrixDisplay.from_predictions(\n",
    "    terr_test,\n",
    "    terr_pred,\n",
    "    labels=terrains,\n",
    "    display_labels=terrains,\n",
    "    normalize=\"true\",\n",
    "    values_format=\".4f\",\n",
    "    cmap=\"Blues\",\n",
    ")\n",
    "fig = disp.ax_.get_figure()\n",
    "fig.set_figwidth(10)\n",
    "fig.set_figheight(10)\n",
    "disp.ax_.tick_params(axis=\"x\", rotation=45)\n",
    "disp.ax_.set_title(results_dir.stem + \" hamming window\")"
   ]
  },
  {
   "cell_type": "code",
   "execution_count": null,
   "metadata": {},
   "outputs": [],
   "source": [
    "vulpi_terrain = [\"CONCRETE\", \"DIRT_ROAD\", \"PLOUGHED\", \"UNPLOUGHED\"]\n",
    "terr_test_bi = np.isin(terr_test, vulpi_terrain)\n",
    "terr_pred_bi = np.isin(terr_pred, vulpi_terrain)\n",
    "\n",
    "disp = ConfusionMatrixDisplay.from_predictions(\n",
    "    terr_test_bi,\n",
    "    terr_pred_bi,\n",
    "    labels=[True, False],\n",
    "    display_labels=[\"VULPI\", \"OTHER\"],\n",
    "    normalize=\"true\",\n",
    "    values_format=\".4f\",\n",
    "    cmap=\"Blues\",\n",
    ")\n",
    "fig = disp.ax_.get_figure()\n",
    "fig.set_figwidth(10)\n",
    "fig.set_figheight(10)\n",
    "disp.ax_.tick_params(axis=\"x\", rotation=45)\n",
    "disp.ax_.set_title(results_dir.stem + \" hamming window\")"
   ]
  },
  {
   "cell_type": "code",
   "execution_count": null,
   "metadata": {},
   "outputs": [],
   "source": [
    "disp = ConfusionMatrixDisplay.from_predictions(\n",
    "    terr_test,\n",
    "    terr_pred,\n",
    "    labels=terrains,\n",
    "    display_labels=terrains,\n",
    "    cmap=\"Blues\",\n",
    ")\n",
    "disp.ax_.set_title(results_dir.stem)"
   ]
  }
 ],
 "metadata": {
  "kernelspec": {
   "display_name": "venv",
   "language": "python",
   "name": "python3"
  },
  "language_info": {
   "codemirror_mode": {
    "name": "ipython",
    "version": 3
   },
   "file_extension": ".py",
   "mimetype": "text/x-python",
   "name": "python",
   "nbconvert_exporter": "python",
   "pygments_lexer": "ipython3",
   "version": "3.10.12"
  }
 },
 "nbformat": 4,
 "nbformat_minor": 2
}
