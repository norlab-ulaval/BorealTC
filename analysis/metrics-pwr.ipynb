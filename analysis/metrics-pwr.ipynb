{
 "cells": [
  {
   "cell_type": "code",
   "execution_count": null,
   "metadata": {
    "ExecuteTime": {
     "end_time": "2024-02-22T14:15:04.804677652Z",
     "start_time": "2024-02-22T14:15:04.771422964Z"
    }
   },
   "outputs": [],
   "source": [
    "from pathlib import Path\n",
    "\n",
    "import numpy as np\n",
    "import pandas as pd\n",
    "from sklearn.metrics import (\n",
    "    ConfusionMatrixDisplay,\n",
    "    accuracy_score,\n",
    "    f1_score,\n",
    "    precision_score,\n",
    "    recall_score,\n",
    ")"
   ]
  },
  {
   "cell_type": "code",
   "execution_count": null,
   "metadata": {
    "ExecuteTime": {
     "end_time": "2024-02-22T14:15:04.924210227Z",
     "start_time": "2024-02-22T14:15:04.822148959Z"
    }
   },
   "outputs": [],
   "source": [
    "results_dir = Path(\"results-pwr\") / \"husky\"\n",
    "values = np.load(results_dir / \"results_SVM_mw_1.7.npy\", allow_pickle=True).item()\n",
    "terrains = np.array([t for t in values[\"terrains\"] if t != \"MIXED\"])\n",
    "inv_terrains = {t: i for i, t in enumerate(terrains)}\n",
    "values"
   ]
  },
  {
   "cell_type": "code",
   "execution_count": null,
   "metadata": {
    "ExecuteTime": {
     "end_time": "2024-02-22T14:15:04.945922182Z",
     "start_time": "2024-02-22T14:15:04.830951670Z"
    }
   },
   "outputs": [],
   "source": [
    "clf_values = values\n",
    "# clf_values = values[1700]\n",
    "\n",
    "\n",
    "def convert_to_int(x):\n",
    "    return np.array([inv_terrains[t] for t in x])\n",
    "\n",
    "\n",
    "ypred = convert_to_int(clf_values[\"pred\"])\n",
    "ytest = convert_to_int(clf_values[\"true\"])\n",
    "terr_pred = terrains[ypred]\n",
    "terr_test = terrains[ytest]"
   ]
  },
  {
   "cell_type": "code",
   "execution_count": null,
   "metadata": {
    "ExecuteTime": {
     "end_time": "2024-02-22T14:15:05.819082971Z",
     "start_time": "2024-02-22T14:15:04.832458182Z"
    }
   },
   "outputs": [],
   "source": [
    "disp = ConfusionMatrixDisplay.from_predictions(\n",
    "    terr_test,\n",
    "    terr_pred,\n",
    "    labels=terrains,\n",
    "    display_labels=terrains,\n",
    "    normalize=\"true\",\n",
    "    values_format=\".2f\",\n",
    "    cmap=\"Blues\",\n",
    ")\n",
    "disp.ax_.set_title(f\"{results_dir.stem} without power\")"
   ]
  },
  {
   "cell_type": "code",
   "execution_count": null,
   "metadata": {
    "ExecuteTime": {
     "end_time": "2024-02-22T14:15:06.107319365Z",
     "start_time": "2024-02-22T14:15:05.775857634Z"
    }
   },
   "outputs": [],
   "source": [
    "disp = ConfusionMatrixDisplay.from_predictions(\n",
    "    terr_test,\n",
    "    terr_pred,\n",
    "    labels=terrains,\n",
    "    display_labels=terrains,\n",
    "    cmap=\"Blues\",\n",
    ")\n",
    "disp.ax_.set_title(results_dir.stem)"
   ]
  },
  {
   "cell_type": "code",
   "execution_count": null,
   "metadata": {
    "ExecuteTime": {
     "end_time": "2024-02-22T14:15:06.193917060Z",
     "start_time": "2024-02-22T14:15:06.067593576Z"
    }
   },
   "outputs": [],
   "source": [
    "metrics = pd.Series(\n",
    "    {\n",
    "        \"accuracy\": accuracy_score(\n",
    "            ytest,\n",
    "            ypred,\n",
    "        ),\n",
    "        \"precision\": precision_score(\n",
    "            ytest,\n",
    "            ypred,\n",
    "            labels=terrains,\n",
    "            average=None,\n",
    "        ),\n",
    "        \"recall\": recall_score(\n",
    "            ytest,\n",
    "            ypred,\n",
    "            labels=terrains,\n",
    "            average=None,\n",
    "        ),\n",
    "        \"f1-score\": f1_score(\n",
    "            ytest,\n",
    "            ypred,\n",
    "            labels=terrains,\n",
    "            average=None,\n",
    "        ),\n",
    "    }\n",
    ")"
   ]
  },
  {
   "cell_type": "code",
   "execution_count": null,
   "metadata": {
    "ExecuteTime": {
     "end_time": "2024-02-22T14:15:06.258781280Z",
     "start_time": "2024-02-22T14:15:06.107608077Z"
    }
   },
   "outputs": [],
   "source": [
    "metrics"
   ]
  }
 ],
 "metadata": {
  "kernelspec": {
   "display_name": "venv",
   "language": "python",
   "name": "python3"
  },
  "language_info": {
   "codemirror_mode": {
    "name": "ipython",
    "version": 3
   },
   "file_extension": ".py",
   "mimetype": "text/x-python",
   "name": "python",
   "nbconvert_exporter": "python",
   "pygments_lexer": "ipython3",
   "version": "3.10.12"
  }
 },
 "nbformat": 4,
 "nbformat_minor": 2
}
