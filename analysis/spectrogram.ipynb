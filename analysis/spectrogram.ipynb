{
 "cells": [
  {
   "cell_type": "code",
   "execution_count": null,
   "metadata": {},
   "outputs": [],
   "source": [
    "from pathlib import Path\n",
    "\n",
    "import numpy as np\n",
    "import pandas as pd\n",
    "from scipy import signal as sig\n",
    "from utils import preprocessing, constants, frequency, transforms\n",
    "import matplotlib.pyplot as plt\n",
    "from scipy import interpolate as interp"
   ]
  },
  {
   "cell_type": "code",
   "execution_count": null,
   "metadata": {},
   "outputs": [],
   "source": [
    "import warnings\n",
    "\n",
    "warnings.filterwarnings(\"ignore\")"
   ]
  },
  {
   "cell_type": "code",
   "execution_count": null,
   "metadata": {},
   "outputs": [],
   "source": [
    "cwd = Path.cwd()\n",
    "csv_dir = cwd / \"data\" / \"vulpi\"\n",
    "# csv_dir = cwd / \"data\" / \"borealtc\"\n",
    "\n",
    "# Random state\n",
    "RANDOM_STATE = 21\n",
    "\n",
    "# Define channels\n",
    "columns = {\n",
    "    \"imu\": {\n",
    "        \"wx\": True,\n",
    "        \"wy\": True,\n",
    "        \"wz\": True,\n",
    "        \"ax\": True,\n",
    "        \"ay\": True,\n",
    "        \"az\": True,\n",
    "    },\n",
    "    \"pro\": {\n",
    "        \"velL\": True,\n",
    "        \"velR\": True,\n",
    "        \"curL\": True,\n",
    "        \"curR\": True,\n",
    "    },\n",
    "}\n",
    "summary = pd.DataFrame({\"columns\": pd.Series(columns)})"
   ]
  },
  {
   "cell_type": "code",
   "execution_count": null,
   "metadata": {},
   "outputs": [],
   "source": [
    "# Get recordings\n",
    "terr_dfs = preprocessing.get_recordings(csv_dir, summary)\n",
    "\n",
    "# Set data partition parameters\n",
    "NUM_CLASSES = len(np.unique(terr_dfs[\"imu\"].terrain))\n",
    "N_FOLDS = 5\n",
    "PART_WINDOW = 5  # seconds\n",
    "MOVING_WINDOWS = [1.5, 1.6, 1.7, 1.8]  # seconds\n",
    "# Data augmentation parameters\n",
    "# 0 < STRIDE < MOVING_WINDOWS\n",
    "STRIDE = 0.1  # seconds\n",
    "# If True, balance the classes while augmenting\n",
    "# If False, imbalance the classes while augmenting\n",
    "HOMOGENEOUS_AUGMENTATION = True\n",
    "\n",
    "# tw / to\n",
    "tw = 0.4\n",
    "to = 0.2"
   ]
  },
  {
   "cell_type": "code",
   "execution_count": null,
   "metadata": {},
   "outputs": [],
   "source": [
    "# terr = \"SANDY_LOAM\"\n",
    "terr = \"DIRT_ROAD\"\n",
    "exps = {\n",
    "    sens: sens_data[sens_data.terrain == terr] for sens, sens_data in terr_dfs.items()\n",
    "}\n",
    "run_dfs = {sens: sens_data[sens_data.run_idx == 1] for sens, sens_data in exps.items()}\n",
    "run_dfs[\"imu\"].run_idx.value_counts()"
   ]
  },
  {
   "cell_type": "code",
   "execution_count": null,
   "metadata": {},
   "outputs": [],
   "source": [
    "run_dfs[\"imu\"].columns"
   ]
  },
  {
   "cell_type": "code",
   "execution_count": null,
   "metadata": {},
   "outputs": [],
   "source": [
    "# Data partition and sample extraction\n",
    "all_data = preprocessing.partition_data(\n",
    "    run_dfs,\n",
    "    summary,\n",
    "    PART_WINDOW,\n",
    "    n_splits=None,\n",
    "    random_state=RANDOM_STATE,\n",
    ")\n",
    "run_data = {\n",
    "    sens: np.vstack(sens_data)[np.newaxis, :] for sens, sens_data in all_data.items()\n",
    "}"
   ]
  },
  {
   "cell_type": "code",
   "execution_count": null,
   "metadata": {},
   "outputs": [],
   "source": [
    "hamm = frequency.multichannel_spectrogram(\n",
    "    run_data,\n",
    "    summary,\n",
    "    50,\n",
    "    tw,\n",
    "    to,\n",
    "    hamming=True,\n",
    ")\n",
    "nohamm = frequency.multichannel_spectrogram(\n",
    "    run_data,\n",
    "    summary,\n",
    "    50,\n",
    "    tw,\n",
    "    to,\n",
    "    hamming=False,\n",
    ")"
   ]
  },
  {
   "cell_type": "code",
   "execution_count": null,
   "metadata": {},
   "outputs": [],
   "source": [
    "(hamm[\"time\"] == nohamm[\"time\"]).all(), (hamm[\"freq\"] == nohamm[\"freq\"]).all()"
   ]
  },
  {
   "cell_type": "code",
   "execution_count": null,
   "metadata": {},
   "outputs": [],
   "source": [
    "hmcs_freq = hamm[\"freq\"]\n",
    "hmcs_time = hamm[\"time\"]\n",
    "hmcs_data = hamm[\"data\"][0]\n",
    "nmcs_freq = nohamm[\"freq\"]\n",
    "nmcs_time = nohamm[\"time\"]\n",
    "nmcs_data = nohamm[\"data\"][0]\n",
    "hmcs_data.shape, nmcs_data.shape"
   ]
  },
  {
   "cell_type": "code",
   "execution_count": null,
   "metadata": {},
   "outputs": [],
   "source": [
    "fig, axs = plt.subplots(nrows=2, figsize=(8, 8))\n",
    "\n",
    "t_mcs = nmcs_time[0, :, 0]\n",
    "f_mcs = nmcs_freq[:, 0, 0]\n",
    "d_mcs = nmcs_data[:, :, 6]\n",
    "f = interp.interp2d(t_mcs, f_mcs, d_mcs, kind=\"cubic\")\n",
    "tnew = transforms.expand(t_mcs)\n",
    "fnew = transforms.expand(f_mcs)\n",
    "dnew = f(tnew, fnew)\n",
    "tN, fN = np.meshgrid(tnew, fnew)\n",
    "\n",
    "axs[0].pcolor(tN - tw, fN, dnew)\n",
    "axs[0].set_title(\"No Hamming\")\n",
    "axs[0].set_ylabel(\"Frequency (Hz)\")\n",
    "axs[0].set_xlabel(\"Time (s)\")\n",
    "\n",
    "t_mcs = hmcs_time[0, :, 0]\n",
    "f_mcs = hmcs_freq[:, 0, 0]\n",
    "d_mcs = hmcs_data[:, :, 6]\n",
    "f = interp.interp2d(t_mcs, f_mcs, d_mcs, kind=\"cubic\")\n",
    "tnew = transforms.expand(t_mcs)\n",
    "fnew = transforms.expand(f_mcs)\n",
    "dnew = f(tnew, fnew)\n",
    "tN, fN = np.meshgrid(tnew, fnew)\n",
    "\n",
    "axs[1].pcolor(tN - tw, fN, dnew)\n",
    "axs[1].set_title(\"Hamming\")\n",
    "axs[1].set_ylabel(\"Frequency (Hz)\")\n",
    "axs[1].set_xlabel(\"Time (s)\")\n",
    "\n",
    "axs[0].set_xlim(right=20)\n",
    "axs[1].set_xlim(right=20)\n",
    "\n",
    "fig.tight_layout()"
   ]
  },
  {
   "cell_type": "code",
   "execution_count": null,
   "metadata": {},
   "outputs": [],
   "source": [
    "fig, ax = plt.subplots()\n",
    "t_mcs = hmcs_time[0, :, 0]\n",
    "f_mcs = hmcs_freq[:, 0, 0]\n",
    "d_mcs = hmcs_data[:, :, 5]\n",
    "f = interp.interp2d(t_mcs, f_mcs, d_mcs, kind=\"cubic\")\n",
    "tnew = transforms.expand(t_mcs, mult=50)\n",
    "fnew = transforms.expand(f_mcs, mult=50)\n",
    "dnew = f(tnew, fnew)\n",
    "tN, fN = np.meshgrid(tnew, fnew)\n",
    "\n",
    "ax.pcolormesh(tN - tw, fN, dnew, cmap=\"plasma\")\n",
    "# ax.set_ylabel(\"Frequency (Hz)\")\n",
    "# ax.set_xlabel(\"Time (s)\")\n",
    "\n",
    "ax.set_xticks([])\n",
    "ax.set_yticks([])\n",
    "\n",
    "ax.set_xlim(right=20)\n",
    "\n",
    "fig.tight_layout()"
   ]
  }
 ],
 "metadata": {
  "kernelspec": {
   "display_name": "venv",
   "language": "python",
   "name": "python3"
  },
  "language_info": {
   "codemirror_mode": {
    "name": "ipython",
    "version": 3
   },
   "file_extension": ".py",
   "mimetype": "text/x-python",
   "name": "python",
   "nbconvert_exporter": "python",
   "pygments_lexer": "ipython3",
   "version": "3.10.12"
  }
 },
 "nbformat": 4,
 "nbformat_minor": 2
}
