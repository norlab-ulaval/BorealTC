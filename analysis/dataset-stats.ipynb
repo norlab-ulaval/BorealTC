{
    "cells": [
        {
            "cell_type": "code",
            "execution_count": null,
            "metadata": {},
            "outputs": [],
            "source": [
                "from pathlib import Path\n",
                "\n",
                "import numpy as np\n",
                "import pandas as pd\n",
                "from utils import preprocessing, transforms\n",
                "from utils.constants import PLOTCOLORS\n",
                "import matplotlib.pyplot as plt\n",
                "from scipy import stats\n",
                "\n",
                "RANDOM_STATE = 21\n",
                "\n",
                "cwd = Path.cwd()\n",
                "husky_data = cwd / \"borealtc-data\"\n",
                "vulpi_data = cwd / \"data\"\n",
                "figs_path = cwd / \"analysis\" / \"figs\"\n",
                "figs_path.mkdir(parents=True, exist_ok=True)\n",
                "\n",
                "COLORS = {\n",
                "    \"base\": PLOTCOLORS[\"dirt road\"],\n",
                "    \"ours\": PLOTCOLORS[\"concrete\"],\n",
                "}"
            ]
        },
        {
            "cell_type": "code",
            "execution_count": null,
            "metadata": {},
            "outputs": [],
            "source": [
                "# Define channels\n",
                "columns = {\n",
                "    \"imu\": {\n",
                "        \"wx\": True,\n",
                "        \"wy\": True,\n",
                "        \"wz\": True,\n",
                "        \"ax\": True,\n",
                "        \"ay\": True,\n",
                "        \"az\": True,\n",
                "    },\n",
                "    \"pro\": {\n",
                "        \"velL\": True,\n",
                "        \"velR\": True,\n",
                "        \"curL\": True,\n",
                "        \"curR\": True,\n",
                "    },\n",
                "}\n",
                "summary = pd.DataFrame({\"columns\": pd.Series(columns)})"
            ]
        },
        {
            "cell_type": "code",
            "execution_count": null,
            "metadata": {},
            "outputs": [],
            "source": [
                "husky_summ = summary.copy()\n",
                "vulpi_summ = summary.copy()\n",
                "\n",
                "husky_dfs = preprocessing.get_recordings(husky_data, husky_summ)\n",
                "vulpi_dfs = preprocessing.get_recordings(vulpi_data, vulpi_summ)\n",
                "\n",
                "husky_pro = husky_dfs[\"pro\"].copy()\n",
                "vulpi_pro = vulpi_dfs[\"pro\"].copy()"
            ]
        },
        {
            "cell_type": "code",
            "execution_count": null,
            "metadata": {},
            "outputs": [],
            "source": [
                "husky_dfs[\"pro\"]"
            ]
        },
        {
            "cell_type": "code",
            "execution_count": null,
            "metadata": {},
            "outputs": [],
            "source": [
                "husky_pro[\"vx\"], husky_pro[\"wz\"] = transforms.unicycle_model(husky_pro)\n",
                "vulpi_pro[\"vx\"], vulpi_pro[\"wz\"] = transforms.unicycle_model(vulpi_pro)"
            ]
        },
        {
            "cell_type": "code",
            "execution_count": null,
            "metadata": {},
            "outputs": [],
            "source": [
                "with plt.style.context(\"analysis/figure.mplstyle\"):\n",
                "    fig, ax = plt.subplots()\n",
                "    ax.scatter(\n",
                "        vulpi_pro.wz,\n",
                "        vulpi_pro.vx,\n",
                "        c=COLORS[\"base\"],\n",
                "        s=0.5,\n",
                "        alpha=1,\n",
                "        label=\"Baseline\",\n",
                "        zorder=5,\n",
                "        rasterized=True,\n",
                "    )\n",
                "    ax.scatter(\n",
                "        husky_pro.wz,\n",
                "        husky_pro.vx,\n",
                "        c=COLORS[\"ours\"],\n",
                "        s=0.5,\n",
                "        alpha=0.8,\n",
                "        label=\"Ours\",\n",
                "        zorder=-1,\n",
                "        rasterized=True,\n",
                "    )\n",
                "\n",
                "    ax.legend(loc=\"center left\", bbox_to_anchor=(1, 0.5), markerscale=10)\n",
                "\n",
                "    ax.set_xlabel(\"Yaw rate $\\omega_z$ (rad/s)\")\n",
                "    ax.set_ylabel(\"Linear speed $v_x$ (m/s)\")\n",
                "\n",
                "    ax.set_aspect(\"equal\")\n",
                "    ax.set_xlim((-0.8, 0.8))\n",
                "    ax.set_ylim((-0.8, 0.8))\n",
                "    # ax.set_xlim((-0.05, 0.8))\n",
                "    # ax.set_ylim((-0.05, 0.8))\n",
                "\n",
                "    fig.savefig(figs_path / \"speeds.pdf\", bbox_inches=\"tight\")"
            ]
        },
        {
            "cell_type": "code",
            "execution_count": null,
            "metadata": {},
            "outputs": [],
            "source": [
                "fig, ax = plt.subplots()\n",
                "for terr in husky_pro.terrain.unique():\n",
                "    # if terr in [\"ICE\"]:\n",
                "    #     continue\n",
                "    lab = terr.replace(\"_\", \" \")\n",
                "    if terr == \"ASPHALT\":\n",
                "        ax.scatter(\n",
                "            husky_pro[husky_pro.terrain == terr].wz,\n",
                "            husky_pro[husky_pro.terrain == terr].vx,\n",
                "            c=PLOTCOLORS[lab.lower()],\n",
                "            s=0.5,\n",
                "            alpha=0.8,\n",
                "            label=lab.title(),\n",
                "            zorder=-1,\n",
                "            rasterized=True,\n",
                "        )\n",
                "\n",
                "ax.legend(loc=\"center left\", bbox_to_anchor=(1, 0.5), markerscale=10)\n",
                "\n",
                "ax.set_xlabel(\"Yaw rate $\\omega_z$ (rad/s)\")\n",
                "ax.set_ylabel(\"Linear speed $v_x$ (m/s)\")\n",
                "\n",
                "ax.set_aspect(\"equal\")\n",
                "ax.set_xlim((-0.8, 0.8))\n",
                "ax.set_ylim((-0.8, 0.8))\n",
                "# ax.set_xlim((-0.05, 0.8))\n",
                "# ax.set_ylim((-0.05, 0.8))\n",
                "plt.show()"
            ]
        },
        {
            "cell_type": "code",
            "execution_count": null,
            "metadata": {},
            "outputs": [],
            "source": [
                "fig, ax = plt.subplots()\n",
                "for terr in vulpi_pro.terrain.unique():\n",
                "    # if terr in [\"ICE\"]:\n",
                "    #     continue\n",
                "    lab = terr.replace(\"_\", \" \")\n",
                "    if lab == \"CONCRETE\":\n",
                "        ax.scatter(\n",
                "            vulpi_pro[vulpi_pro.terrain == terr].wz,\n",
                "            vulpi_pro[vulpi_pro.terrain == terr].vx,\n",
                "            c=PLOTCOLORS[lab.lower()],\n",
                "            s=0.5,\n",
                "            alpha=0.8,\n",
                "            label=lab.title(),\n",
                "            zorder=-1,\n",
                "            rasterized=True,\n",
                "        )\n",
                "\n",
                "ax.legend(loc=\"center left\", bbox_to_anchor=(1, 0.5), markerscale=10)\n",
                "\n",
                "ax.set_xlabel(\"Yaw rate $\\omega_z$ (rad/s)\")\n",
                "ax.set_ylabel(\"Linear speed $v_x$ (m/s)\")\n",
                "\n",
                "ax.set_aspect(\"equal\")\n",
                "ax.set_xlim((-0.8, 0.8))\n",
                "ax.set_ylim((-0.8, 0.8))\n",
                "# ax.set_xlim((-0.05, 0.8))\n",
                "# ax.set_ylim((-0.05, 0.8))\n",
                "plt.show()"
            ]
        },
        {
            "cell_type": "code",
            "execution_count": null,
            "metadata": {},
            "outputs": [],
            "source": [
                "descriptions = {\n",
                "    \"hvx\": stats.describe(husky_pro.vx)._asdict(),\n",
                "    \"hwz\": stats.describe(husky_pro.wz)._asdict(),\n",
                "    \"vvx\": stats.describe(vulpi_pro.vx)._asdict(),\n",
                "    \"vwz\": stats.describe(vulpi_pro.wz)._asdict(),\n",
                "}\n",
                "pd.DataFrame.from_dict(descriptions, orient=\"index\")"
            ]
        },
        {
            "cell_type": "markdown",
            "metadata": {},
            "source": [
                "# Rotationnality"
            ]
        },
        {
            "cell_type": "code",
            "execution_count": null,
            "metadata": {},
            "outputs": [],
            "source": [
                "from utils.constants import HuskyConstants\n",
                "\n",
                "Bs = HuskyConstants.ugv_Bs\n",
                "husky_pro[\"rho\"] = (\n",
                "    Bs * husky_pro.wz.abs() / (husky_pro.vx.abs() + Bs * husky_pro.wz.abs())\n",
                ")\n",
                "vulpi_pro[\"rho\"] = (\n",
                "    Bs * vulpi_pro.wz.abs() / (vulpi_pro.vx.abs() + Bs * vulpi_pro.wz.abs())\n",
                ")"
            ]
        },
        {
            "cell_type": "code",
            "execution_count": null,
            "metadata": {},
            "outputs": [],
            "source": [
                "fig, ax = plt.subplots()\n",
                "ax.hist(\n",
                "    [vulpi_pro.rho, husky_pro.rho],\n",
                "    label=[\"Baseline\", \"Ours\"],\n",
                "    color=[COLORS[\"base\"], COLORS[\"ours\"]],\n",
                "    log=True,\n",
                ")\n",
                "ax.legend()\n",
                "ax.set_xlabel(\"Rotationnality $\\\\rho$\")\n",
                "ax.set_ylabel(\"Counts\")"
            ]
        },
        {
            "cell_type": "code",
            "execution_count": null,
            "metadata": {},
            "outputs": [],
            "source": [
                "rho_desc = {\n",
                "    \"ours\": stats.describe(husky_pro.rho.dropna())._asdict(),\n",
                "    \"baseline\": stats.describe(vulpi_pro.rho.dropna())._asdict(),\n",
                "}\n",
                "pd.DataFrame.from_dict(rho_desc, orient=\"index\")"
            ]
        }
    ],
    "metadata": {
        "kernelspec": {
            "display_name": "venv",
            "language": "python",
            "name": "python3"
        },
        "language_info": {
            "codemirror_mode": {
                "name": "ipython",
                "version": 3
            },
            "file_extension": ".py",
            "mimetype": "text/x-python",
            "name": "python",
            "nbconvert_exporter": "python",
            "pygments_lexer": "ipython3",
            "version": "3.10.12"
        }
    },
    "nbformat": 4,
    "nbformat_minor": 2
}