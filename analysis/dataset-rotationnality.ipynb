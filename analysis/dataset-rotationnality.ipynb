{
 "cells": [
  {
   "cell_type": "code",
   "execution_count": 1,
   "metadata": {},
   "outputs": [],
   "source": [
    "from pathlib import Path\n",
    "\n",
    "import numpy as np\n",
    "import pandas as pd\n",
    "from utils import preprocessing, transforms\n",
    "from utils.constants import PLOTCOLORS\n",
    "import matplotlib.pyplot as plt\n",
    "from scipy import stats\n",
    "\n",
    "RANDOM_STATE = 21\n",
    "\n",
    "cwd = Path.cwd()\n",
    "husky_data = cwd / \"norlab-data\"\n",
    "vulpi_data = cwd / \"data\"\n",
    "figs_path = cwd / \"analysis\" / \"figs\"\n",
    "figs_path.mkdir(parents=True, exist_ok=True)\n",
    "\n",
    "COLORS = {\n",
    "    \"base\": PLOTCOLORS[\"dirt road\"],\n",
    "    \"ours\": PLOTCOLORS[\"concrete\"],\n",
    "}"
   ]
  },
  {
   "cell_type": "code",
   "execution_count": 2,
   "metadata": {},
   "outputs": [],
   "source": [
    "# Define channels\n",
    "columns = {\n",
    "    \"imu\": {\n",
    "        \"wx\": True,\n",
    "        \"wy\": True,\n",
    "        \"wz\": True,\n",
    "        \"ax\": True,\n",
    "        \"ay\": True,\n",
    "        \"az\": True,\n",
    "    },\n",
    "    \"pro\": {\n",
    "        \"velL\": True,\n",
    "        \"velR\": True,\n",
    "        \"curL\": True,\n",
    "        \"curR\": True,\n",
    "    },\n",
    "}\n",
    "summary = pd.DataFrame({\"columns\": pd.Series(columns)})"
   ]
  },
  {
   "cell_type": "code",
   "execution_count": 3,
   "metadata": {},
   "outputs": [],
   "source": [
    "husky_summ = summary.copy()\n",
    "vulpi_summ = summary.copy()\n",
    "\n",
    "husky_dfs = preprocessing.get_recordings(husky_data, husky_summ)\n",
    "vulpi_dfs = preprocessing.get_recordings(vulpi_data, vulpi_summ)\n",
    "\n",
    "husky_pro = husky_dfs[\"pro\"].copy()\n",
    "vulpi_pro = vulpi_dfs[\"pro\"].copy()"
   ]
  },
  {
   "cell_type": "code",
   "execution_count": 4,
   "metadata": {},
   "outputs": [],
   "source": [
    "husky_pro[\"vx\"], husky_pro[\"wz\"] = transforms.unicycle_model(husky_pro)\n",
    "vulpi_pro[\"vx\"], vulpi_pro[\"wz\"] = transforms.unicycle_model(vulpi_pro)"
   ]
  },
  {
   "cell_type": "markdown",
   "metadata": {},
   "source": [
    "# Rotationnality"
   ]
  },
  {
   "cell_type": "code",
   "execution_count": 5,
   "metadata": {},
   "outputs": [],
   "source": [
    "from utils.constants import HuskyConstants\n",
    "\n",
    "Bs = HuskyConstants.ugv_Bs\n",
    "husky_pro[\"rho\"] = (\n",
    "    Bs * husky_pro.wz.abs() / (husky_pro.vx.abs() + Bs * husky_pro.wz.abs())\n",
    ")\n",
    "vulpi_pro[\"rho\"] = (\n",
    "    Bs * vulpi_pro.wz.abs() / (vulpi_pro.vx.abs() + Bs * vulpi_pro.wz.abs())\n",
    ")"
   ]
  },
  {
   "cell_type": "code",
   "execution_count": 6,
   "metadata": {},
   "outputs": [
    {
     "data": {
      "text/html": [
       "<div>\n",
       "<style scoped>\n",
       "    .dataframe tbody tr th:only-of-type {\n",
       "        vertical-align: middle;\n",
       "    }\n",
       "\n",
       "    .dataframe tbody tr th {\n",
       "        vertical-align: top;\n",
       "    }\n",
       "\n",
       "    .dataframe thead th {\n",
       "        text-align: right;\n",
       "    }\n",
       "</style>\n",
       "<table border=\"1\" class=\"dataframe\">\n",
       "  <thead>\n",
       "    <tr style=\"text-align: right;\">\n",
       "      <th></th>\n",
       "      <th>nobs</th>\n",
       "      <th>minmax</th>\n",
       "      <th>mean</th>\n",
       "      <th>variance</th>\n",
       "      <th>skewness</th>\n",
       "      <th>kurtosis</th>\n",
       "    </tr>\n",
       "  </thead>\n",
       "  <tbody>\n",
       "    <tr>\n",
       "      <th>ours</th>\n",
       "      <td>46018</td>\n",
       "      <td>(0.0, 1.0)</td>\n",
       "      <td>0.417131</td>\n",
       "      <td>0.159803</td>\n",
       "      <td>0.404527</td>\n",
       "      <td>-1.470874</td>\n",
       "    </tr>\n",
       "    <tr>\n",
       "      <th>baseline</th>\n",
       "      <td>12319</td>\n",
       "      <td>(0.0, 1.0)</td>\n",
       "      <td>0.010497</td>\n",
       "      <td>0.003549</td>\n",
       "      <td>9.200214</td>\n",
       "      <td>108.633023</td>\n",
       "    </tr>\n",
       "  </tbody>\n",
       "</table>\n",
       "</div>"
      ],
      "text/plain": [
       "           nobs      minmax      mean  variance  skewness    kurtosis\n",
       "ours      46018  (0.0, 1.0)  0.417131  0.159803  0.404527   -1.470874\n",
       "baseline  12319  (0.0, 1.0)  0.010497  0.003549  9.200214  108.633023"
      ]
     },
     "execution_count": 6,
     "metadata": {},
     "output_type": "execute_result"
    }
   ],
   "source": [
    "rho_desc = {\n",
    "    \"ours\": stats.describe(husky_pro.rho.dropna())._asdict(),\n",
    "    \"baseline\": stats.describe(vulpi_pro.rho.dropna())._asdict(),\n",
    "}\n",
    "pd.DataFrame.from_dict(rho_desc, orient=\"index\")"
   ]
  },
  {
   "cell_type": "code",
   "execution_count": 15,
   "metadata": {},
   "outputs": [
    {
     "data": {
      "image/png": "[encoded data removed]",
      "text/plain": [
       "<Figure size 640x480 with 1 Axes>"
      ]
     },
     "metadata": {},
     "output_type": "display_data"
    }
   ],
   "source": [
    "with plt.style.context(\"./analysis/figure.mplstyle\"):\n",
    "    fig, ax = plt.subplots()\n",
    "\n",
    "    terrains = sorted(husky_pro.terrain.unique())\n",
    "    rhos = [husky_pro[husky_pro.terrain == terr].rho for terr in terrains]\n",
    "    labels = [lab.replace(\"_\", \" \").title() for lab in terrains]\n",
    "    cols = [PLOTCOLORS[lab.lower()] for lab in labels]\n",
    "\n",
    "    # for rho, lab, col in zip(rhos, labels, cols):\n",
    "    #     rho.plot.kde(color=col, label=lab, ax=ax)\n",
    "\n",
    "    ax.hist(\n",
    "        rhos,\n",
    "        label=labels,\n",
    "        color=cols,\n",
    "        log=True,\n",
    "    )\n",
    "    ax.legend(loc=\"center left\", bbox_to_anchor=(1.05, 0.5))\n",
    "    ax.set_xlabel(\"Rotationnality $\\\\rho$\")\n",
    "    ax.set_ylabel(\"Counts\")\n",
    "    ticks = np.round(0.1 * np.arange(11), 1)\n",
    "    ax.set_xticks(ticks, ticks)\n",
    "    # ax.set_xlim((0, 1))\n",
    "    ax.set_ylim(top=1e4)\n",
    "\n",
    "    fig.savefig(figs_path / \"rho-husky.jpg\", bbox_inches=\"tight\")\n",
    "plt.show()"
   ]
  },
  {
   "cell_type": "code",
   "execution_count": 8,
   "metadata": {},
   "outputs": [
    {
     "data": {
      "image/png": "[encoded data removed]",
      "text/plain": [
       "<Figure size 640x480 with 1 Axes>"
      ]
     },
     "metadata": {},
     "output_type": "display_data"
    }
   ],
   "source": [
    "with plt.style.context(\"./analysis/figure.mplstyle\"):\n",
    "    fig, ax = plt.subplots()\n",
    "\n",
    "    terrains = sorted(vulpi_pro.terrain.unique())\n",
    "    rhos = [vulpi_pro[vulpi_pro.terrain == terr].rho for terr in terrains]\n",
    "    labels = [lab.replace(\"_\", \" \").title() for lab in terrains]\n",
    "    cols = [PLOTCOLORS[lab.lower()] for lab in labels]\n",
    "\n",
    "    ax.hist(\n",
    "        rhos,\n",
    "        label=labels,\n",
    "        color=cols,\n",
    "        log=True,\n",
    "        bins=10,\n",
    "    )\n",
    "    ax.legend(loc=\"center left\", bbox_to_anchor=(1.05, 0.5))\n",
    "    ax.set_xlabel(\"Rotationnality $\\\\rho$\")\n",
    "    ax.set_ylabel(\"Counts\")\n",
    "    ticks = np.round(0.1 * np.arange(11), 1)\n",
    "    ax.set_xticks(ticks, ticks)\n",
    "    ax.set_ylim(top=1e4)\n",
    "\n",
    "    fig.savefig(figs_path / \"rho-vulpi.jpg\", bbox_inches=\"tight\")\n",
    "plt.show()"
   ]
  }
 ],
 "metadata": {
  "kernelspec": {
   "display_name": "venv",
   "language": "python",
   "name": "python3"
  },
  "language_info": {
   "codemirror_mode": {
    "name": "ipython",
    "version": 3
   },
   "file_extension": ".py",
   "mimetype": "text/x-python",
   "name": "python",
   "nbconvert_exporter": "python",
   "pygments_lexer": "ipython3",
   "version": "3.10.12"
  }
 },
 "nbformat": 4,
 "nbformat_minor": 2
}
