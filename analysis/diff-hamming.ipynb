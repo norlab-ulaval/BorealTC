{
 "cells": [
  {
   "cell_type": "code",
   "execution_count": 1,
   "metadata": {},
   "outputs": [],
   "source": [
    "from pathlib import Path\n",
    "\n",
    "import matplotlib.pyplot as plt\n",
    "import numpy as np\n",
    "import pandas as pd\n",
    "from sklearn.metrics import (\n",
    "    accuracy_score,\n",
    "    f1_score,\n",
    "    precision_score,\n",
    "    recall_score,\n",
    ")"
   ]
  },
  {
   "cell_type": "code",
   "execution_count": 2,
   "metadata": {},
   "outputs": [],
   "source": [
    "husk_res = Path(\"results\") / \"husky\"\n",
    "vulp_res = Path(\"results\") / \"vulpi\"\n",
    "\n",
    "# hbox : metrics/husky/CNN-1700-nohamming.dat\n",
    "# hham : metrics/husky/CNN-1700-hamming.dat\n",
    "# vbox : metrics/vulpi/CNN-1700-optim6.dat\n",
    "# vham : metrics/vulpi/CNN-1700-hamming.dat\n",
    "\n",
    "paths = {\n",
    "    \"husky\": {\n",
    "        \"boxcar\": husk_res / \"results_CNN_nohamming_mw_1.7.npy\",\n",
    "        \"hamming\": husk_res / \"results_CNN_hamming_mw_1.7.npy\",\n",
    "    },\n",
    "    \"vulpi\": {\n",
    "        \"boxcar\": vulp_res / \"results_CNN_optim6_mw_1.7.npy\",\n",
    "        \"hamming\": vulp_res / \"results_CNN_hamming_mw_1.7.npy\",\n",
    "    },\n",
    "}\n",
    "\n",
    "values = {}\n",
    "values[\"husky\"] = {\n",
    "    \"boxc\": np.load(paths[\"husky\"][\"boxcar\"], allow_pickle=True).item(),\n",
    "    \"hamm\": np.load(paths[\"husky\"][\"hamming\"], allow_pickle=True).item(),\n",
    "}\n",
    "values[\"vulpi\"] = {\n",
    "    \"boxc\": np.load(paths[\"vulpi\"][\"boxcar\"], allow_pickle=True).item(),\n",
    "    \"hamm\": np.load(paths[\"vulpi\"][\"hamming\"], allow_pickle=True).item(),\n",
    "}"
   ]
  },
  {
   "cell_type": "code",
   "execution_count": 7,
   "metadata": {},
   "outputs": [],
   "source": [
    "def convert_to_str(x, terrains):\n",
    "    if x.dtype.type is np.int64:\n",
    "        return terrains[x]\n",
    "    return x\n",
    "\n",
    "\n",
    "def compute_metrics(clf_values):\n",
    "    terrains = np.array([t for t in clf_values[\"terrains\"] if t != \"MIXED\"])\n",
    "    inv_terrains = {t: i for i, t in enumerate(terrains)}\n",
    "    ypred = convert_to_str(clf_values[\"pred\"], terrains)\n",
    "    ytest = convert_to_str(clf_values[\"true\"], terrains)\n",
    "    metrics = pd.Series(\n",
    "        {\n",
    "            \"accuracy\": accuracy_score(\n",
    "                ytest,\n",
    "                ypred,\n",
    "            ),\n",
    "            \"precision\": precision_score(\n",
    "                ytest,\n",
    "                ypred,\n",
    "                labels=terrains,\n",
    "                average=None,\n",
    "            ),\n",
    "            \"recall\": recall_score(\n",
    "                ytest,\n",
    "                ypred,\n",
    "                labels=terrains,\n",
    "                average=None,\n",
    "            ),\n",
    "            \"f1-score\": f1_score(\n",
    "                ytest,\n",
    "                ypred,\n",
    "                labels=terrains,\n",
    "                average=None,\n",
    "            ),\n",
    "        }\n",
    "    )\n",
    "    return metrics"
   ]
  },
  {
   "cell_type": "code",
   "execution_count": 8,
   "metadata": {},
   "outputs": [
    {
     "data": {
      "text/html": [
       "<div>\n",
       "<style scoped>\n",
       "    .dataframe tbody tr th:only-of-type {\n",
       "        vertical-align: middle;\n",
       "    }\n",
       "\n",
       "    .dataframe tbody tr th {\n",
       "        vertical-align: top;\n",
       "    }\n",
       "\n",
       "    .dataframe thead th {\n",
       "        text-align: right;\n",
       "    }\n",
       "</style>\n",
       "<table border=\"1\" class=\"dataframe\">\n",
       "  <thead>\n",
       "    <tr style=\"text-align: right;\">\n",
       "      <th></th>\n",
       "      <th>vbox</th>\n",
       "      <th>vham</th>\n",
       "      <th>hbox</th>\n",
       "      <th>hham</th>\n",
       "    </tr>\n",
       "  </thead>\n",
       "  <tbody>\n",
       "    <tr>\n",
       "      <th>accuracy</th>\n",
       "      <td>0.934804</td>\n",
       "      <td>0.941176</td>\n",
       "      <td>0.937451</td>\n",
       "      <td>0.939623</td>\n",
       "    </tr>\n",
       "    <tr>\n",
       "      <th>precision</th>\n",
       "      <td>[0.9780439121756487, 0.9152542372881356, 0.971...</td>\n",
       "      <td>[0.9921104536489151, 0.9239543726235742, 0.969...</td>\n",
       "      <td>[0.9335154826958105, 0.96158290005777, 0.97579...</td>\n",
       "      <td>[0.929803328290469, 0.9729099912612875, 0.9724...</td>\n",
       "    </tr>\n",
       "    <tr>\n",
       "      <th>recall</th>\n",
       "      <td>[0.928030303030303, 0.9204545454545454, 0.9937...</td>\n",
       "      <td>[0.9526515151515151, 0.9204545454545454, 0.989...</td>\n",
       "      <td>[0.8394758394758395, 0.9837470449172577, 0.985...</td>\n",
       "      <td>[0.838929838929839, 0.9869976359338062, 0.9811...</td>\n",
       "    </tr>\n",
       "    <tr>\n",
       "      <th>f1-score</th>\n",
       "      <td>[0.9523809523809523, 0.9178470254957507, 0.982...</td>\n",
       "      <td>[0.9719806763285024, 0.9222011385199241, 0.979...</td>\n",
       "      <td>[0.8840017248814144, 0.9725387087350278, 0.980...</td>\n",
       "      <td>[0.8820321469575201, 0.9799031832184245, 0.976...</td>\n",
       "    </tr>\n",
       "  </tbody>\n",
       "</table>\n",
       "</div>"
      ],
      "text/plain": [
       "                                                        vbox  \\\n",
       "accuracy                                            0.934804   \n",
       "precision  [0.9780439121756487, 0.9152542372881356, 0.971...   \n",
       "recall     [0.928030303030303, 0.9204545454545454, 0.9937...   \n",
       "f1-score   [0.9523809523809523, 0.9178470254957507, 0.982...   \n",
       "\n",
       "                                                        vham  \\\n",
       "accuracy                                            0.941176   \n",
       "precision  [0.9921104536489151, 0.9239543726235742, 0.969...   \n",
       "recall     [0.9526515151515151, 0.9204545454545454, 0.989...   \n",
       "f1-score   [0.9719806763285024, 0.9222011385199241, 0.979...   \n",
       "\n",
       "                                                        hbox  \\\n",
       "accuracy                                            0.937451   \n",
       "precision  [0.9335154826958105, 0.96158290005777, 0.97579...   \n",
       "recall     [0.8394758394758395, 0.9837470449172577, 0.985...   \n",
       "f1-score   [0.8840017248814144, 0.9725387087350278, 0.980...   \n",
       "\n",
       "                                                        hham  \n",
       "accuracy                                            0.939623  \n",
       "precision  [0.929803328290469, 0.9729099912612875, 0.9724...  \n",
       "recall     [0.838929838929839, 0.9869976359338062, 0.9811...  \n",
       "f1-score   [0.8820321469575201, 0.9799031832184245, 0.976...  "
      ]
     },
     "execution_count": 8,
     "metadata": {},
     "output_type": "execute_result"
    }
   ],
   "source": [
    "df = pd.DataFrame(\n",
    "    {\n",
    "        \"vbox\": compute_metrics(values[\"vulpi\"][\"boxc\"]),\n",
    "        \"vham\": compute_metrics(values[\"vulpi\"][\"hamm\"]),\n",
    "        \"hbox\": compute_metrics(values[\"husky\"][\"boxc\"]),\n",
    "        \"hham\": compute_metrics(values[\"husky\"][\"hamm\"]),\n",
    "    }\n",
    ")\n",
    "df\n"
   ]
  },
  {
   "cell_type": "code",
   "execution_count": 12,
   "metadata": {},
   "outputs": [
    {
     "data": {
      "text/plain": [
       "(array([ 0.01406654,  0.00870014, -0.00209901,  0.00386847]),\n",
       " 0.0063725490196078205)"
      ]
     },
     "execution_count": 12,
     "metadata": {},
     "output_type": "execute_result"
    }
   ],
   "source": [
    "vulp_diff = df.vham - df.vbox\n",
    "vulp_diff.accuracy, vulp_diff.precision"
   ]
  },
  {
   "cell_type": "code",
   "execution_count": 16,
   "metadata": {},
   "outputs": [
    {
     "data": {
      "text/plain": [
       "(0.0021722178901637523,\n",
       " array([-0.00371215,  0.01132709, -0.00332396,  0.00976874, -0.00208042]))"
      ]
     },
     "execution_count": 16,
     "metadata": {},
     "output_type": "execute_result"
    }
   ],
   "source": [
    "hamm_diff = df.hham - df.hbox\n",
    "hamm_diff.accuracy, hamm_diff.precision"
   ]
  }
 ],
 "metadata": {
  "kernelspec": {
   "display_name": "venv",
   "language": "python",
   "name": "python3"
  },
  "language_info": {
   "codemirror_mode": {
    "name": "ipython",
    "version": 3
   },
   "file_extension": ".py",
   "mimetype": "text/x-python",
   "name": "python",
   "nbconvert_exporter": "python",
   "pygments_lexer": "ipython3",
   "version": "3.10.12"
  }
 },
 "nbformat": 4,
 "nbformat_minor": 2
}
