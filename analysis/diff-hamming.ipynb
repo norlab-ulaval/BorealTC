{
 "cells": [
  {
   "cell_type": "code",
   "execution_count": null,
   "metadata": {},
   "outputs": [],
   "source": [
    "from pathlib import Path\n",
    "\n",
    "import matplotlib.pyplot as plt\n",
    "import numpy as np\n",
    "import pandas as pd\n",
    "from sklearn.metrics import (\n",
    "    accuracy_score,\n",
    "    f1_score,\n",
    "    precision_score,\n",
    "    recall_score,\n",
    ")"
   ]
  },
  {
   "cell_type": "code",
   "execution_count": null,
   "metadata": {},
   "outputs": [],
   "source": [
    "husk_res = Path(\"results\") / \"husky\"\n",
    "vulp_res = Path(\"results\") / \"vulpi\"\n",
    "\n",
    "# hbox : metrics/husky/CNN-1700-nohamming.dat\n",
    "# hham : metrics/husky/CNN-1700-hamming.dat\n",
    "# vbox : metrics/vulpi/CNN-1700-optim6.dat\n",
    "# vham : metrics/vulpi/CNN-1700-hamming.dat\n",
    "\n",
    "paths = {\n",
    "    \"husky\": {\n",
    "        \"boxcar\": husk_res / \"results_CNN_nohamming_mw_1.7.npy\",\n",
    "        \"hamming\": husk_res / \"results_CNN_hamming_mw_1.7.npy\",\n",
    "    },\n",
    "    \"vulpi\": {\n",
    "        \"boxcar\": vulp_res / \"results_CNN_optim6_mw_1.7.npy\",\n",
    "        \"hamming\": vulp_res / \"results_CNN_hamming_mw_1.7.npy\",\n",
    "    },\n",
    "}\n",
    "\n",
    "values = {}\n",
    "values[\"husky\"] = {\n",
    "    \"boxc\": np.load(paths[\"husky\"][\"boxcar\"], allow_pickle=True).item(),\n",
    "    \"hamm\": np.load(paths[\"husky\"][\"hamming\"], allow_pickle=True).item(),\n",
    "}\n",
    "values[\"vulpi\"] = {\n",
    "    \"boxc\": np.load(paths[\"vulpi\"][\"boxcar\"], allow_pickle=True).item(),\n",
    "    \"hamm\": np.load(paths[\"vulpi\"][\"hamming\"], allow_pickle=True).item(),\n",
    "}"
   ]
  },
  {
   "cell_type": "code",
   "execution_count": null,
   "metadata": {},
   "outputs": [],
   "source": [
    "def convert_to_str(x, terrains):\n",
    "    if x.dtype.type is np.int64:\n",
    "        return terrains[x]\n",
    "    return x\n",
    "\n",
    "\n",
    "def compute_metrics(clf_values):\n",
    "    terrains = np.array([t for t in clf_values[\"terrains\"] if t != \"MIXED\"])\n",
    "    inv_terrains = {t: i for i, t in enumerate(terrains)}\n",
    "    ypred = convert_to_str(clf_values[\"pred\"], terrains)\n",
    "    ytest = convert_to_str(clf_values[\"true\"], terrains)\n",
    "    metrics = pd.Series(\n",
    "        {\n",
    "            \"accuracy\": accuracy_score(\n",
    "                ytest,\n",
    "                ypred,\n",
    "            ),\n",
    "            \"precision\": precision_score(\n",
    "                ytest,\n",
    "                ypred,\n",
    "                labels=terrains,\n",
    "                average=None,\n",
    "            ),\n",
    "            \"recall\": recall_score(\n",
    "                ytest,\n",
    "                ypred,\n",
    "                labels=terrains,\n",
    "                average=None,\n",
    "            ),\n",
    "            \"f1-score\": f1_score(\n",
    "                ytest,\n",
    "                ypred,\n",
    "                labels=terrains,\n",
    "                average=None,\n",
    "            ),\n",
    "        }\n",
    "    )\n",
    "    return metrics"
   ]
  },
  {
   "cell_type": "code",
   "execution_count": null,
   "metadata": {},
   "outputs": [],
   "source": [
    "df = pd.DataFrame(\n",
    "    {\n",
    "        \"vbox\": compute_metrics(values[\"vulpi\"][\"boxc\"]),\n",
    "        \"vham\": compute_metrics(values[\"vulpi\"][\"hamm\"]),\n",
    "        \"hbox\": compute_metrics(values[\"husky\"][\"boxc\"]),\n",
    "        \"hham\": compute_metrics(values[\"husky\"][\"hamm\"]),\n",
    "    }\n",
    ")\n",
    "df"
   ]
  },
  {
   "cell_type": "code",
   "execution_count": null,
   "metadata": {},
   "outputs": [],
   "source": [
    "vulp_diff = df.vham - df.vbox\n",
    "vulp_diff.accuracy, vulp_diff.precision"
   ]
  },
  {
   "cell_type": "code",
   "execution_count": null,
   "metadata": {},
   "outputs": [],
   "source": [
    "hamm_diff = df.hham - df.hbox\n",
    "hamm_diff.accuracy, hamm_diff.precision"
   ]
  }
 ],
 "metadata": {
  "kernelspec": {
   "display_name": "venv",
   "language": "python",
   "name": "python3"
  },
  "language_info": {
   "codemirror_mode": {
    "name": "ipython",
    "version": 3
   },
   "file_extension": ".py",
   "mimetype": "text/x-python",
   "name": "python",
   "nbconvert_exporter": "python",
   "pygments_lexer": "ipython3",
   "version": "3.10.12"
  }
 },
 "nbformat": 4,
 "nbformat_minor": 2
}
