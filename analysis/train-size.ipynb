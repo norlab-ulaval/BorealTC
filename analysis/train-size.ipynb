{
 "cells": [
  {
   "cell_type": "code",
   "execution_count": 1,
   "metadata": {},
   "outputs": [],
   "source": [
    "from pathlib import Path\n",
    "\n",
    "import matplotlib.pyplot as plt\n",
    "import matplotlib.ticker as mticker\n",
    "from matplotlib import colormaps\n",
    "import numpy as np\n",
    "from sklearn.metrics import accuracy_score\n",
    "from utils import transforms, exports\n",
    "\n",
    "split_path = Path(\"results/split\")"
   ]
  },
  {
   "cell_type": "code",
   "execution_count": 2,
   "metadata": {},
   "outputs": [],
   "source": [
    "with exports.JSONExporter(Path(\"analysis\") / \"train-sizes.json\") as data:\n",
    "    dim_splits = data[\"train_sizes\"]"
   ]
  },
  {
   "cell_type": "code",
   "execution_count": 3,
   "metadata": {},
   "outputs": [],
   "source": [
    "values = np.load(\n",
    "    split_path / \"results_split_5_mamba_mw_1.7.npy\",\n",
    "    allow_pickle=True,\n",
    ").item()\n",
    "terrains = np.array([t for t in values[\"terrains\"] if t != \"MIXED\"])\n",
    "inv_terrains = {t: i for i, t in enumerate(terrains)}"
   ]
  },
  {
   "cell_type": "code",
   "execution_count": 4,
   "metadata": {},
   "outputs": [],
   "source": [
    "res_cnn = []\n",
    "res_mamba = []\n",
    "for p in sorted(split_path.iterdir()):\n",
    "    if \"CNN\" in p.stem:\n",
    "        res_cnn.append(np.load(p, allow_pickle=True).item())\n",
    "    elif \"mamba\" in p.stem:\n",
    "        res_mamba.append(np.load(p, allow_pickle=True).item())"
   ]
  },
  {
   "cell_type": "code",
   "execution_count": 5,
   "metadata": {},
   "outputs": [
    {
     "name": "stdout",
     "output_type": "stream",
     "text": [
      "828\n",
      "828\n",
      "828\n",
      "828\n",
      "828\n",
      "3945\n",
      "3945\n",
      "3945\n",
      "3945\n",
      "3945\n",
      "cnn_acc_per_split=[[0.7946859903381642, 0.6823671497584541, 0.714975845410628, 0.6666666666666666, 0.7125603864734299], [0.8466183574879227, 0.785024154589372, 0.8128019323671497, 0.7922705314009661, 0.7439613526570048], [0.8997584541062802, 0.8357487922705314, 0.8707729468599034, 0.8417874396135265, 0.8369565217391305], [0.927536231884058, 0.8695652173913043, 0.8804347826086957, 0.8659420289855072, 0.8611111111111112], [0.9371980676328503, 0.9033816425120773, 0.9178743961352657, 0.8900966183574879, 0.8792270531400966]]\n",
      "mamba_acc_per_split=[[0.6136882129277567, 0.6002534854245881, 0.644106463878327, 0.6159695817490495, 0.5837769328263624], [0.7731305449936628, 0.720659062103929, 0.7254752851711027, 0.7158428390367554, 0.7057034220532319], [0.8359949302915083, 0.8337135614702155, 0.8144486692015209, 0.8347275031685678, 0.8195183776932826], [0.8732572877059569, 0.908745247148289, 0.8699619771863117, 0.873510773130545, 0.8623574144486692], [0.929531051964512, 0.9269961977186312, 0.8948035487959443, 0.90595690747782, 0.902915082382763]]\n"
     ]
    }
   ],
   "source": [
    "cnn_acc_per_split = []\n",
    "mamba_acc_per_split = []\n",
    "for res in res_cnn[::-1]:\n",
    "    ypred = transforms.convert_to_idx(res[\"pred\"], inv_terrains)\n",
    "    ytest = transforms.convert_to_idx(res[\"true\"], inv_terrains)\n",
    "    fold_size = len(ypred) // 5\n",
    "    print(fold_size)\n",
    "    acc = []\n",
    "    for k in range(5):\n",
    "        pred = ypred[k * fold_size : (k + 1) * fold_size]\n",
    "        true = ytest[k * fold_size : (k + 1) * fold_size]\n",
    "        acc.append(accuracy_score(true, pred))\n",
    "    cnn_acc_per_split.append(acc)\n",
    "\n",
    "for res in res_mamba[::-1]:\n",
    "    ypred = transforms.convert_to_idx(res[\"pred\"], inv_terrains)\n",
    "    ytest = transforms.convert_to_idx(res[\"true\"], inv_terrains)\n",
    "    fold_size = len(ypred) // 5\n",
    "    print(fold_size)\n",
    "    acc = []\n",
    "    for k in range(5):\n",
    "        pred = ypred[k * fold_size : (k + 1) * fold_size]\n",
    "        true = ytest[k * fold_size : (k + 1) * fold_size]\n",
    "        acc.append(accuracy_score(true, pred))\n",
    "    mamba_acc_per_split.append(acc)\n",
    "\n",
    "\n",
    "print(f\"{cnn_acc_per_split=}\")\n",
    "print(f\"{mamba_acc_per_split=}\")"
   ]
  },
  {
   "cell_type": "code",
   "execution_count": 6,
   "metadata": {},
   "outputs": [],
   "source": [
    "x = np.array(dim_splits)[::-1]\n",
    "\n",
    "cnn_acc = np.mean(cnn_acc_per_split, axis=1)\n",
    "mamba_acc = np.mean(mamba_acc_per_split, axis=1)\n",
    "\n",
    "cnn_err = 1 - cnn_acc\n",
    "mamba_err = 1 - mamba_acc\n",
    "\n",
    "cnn_bars = 1 - np.percentile(cnn_acc_per_split, [75, 25], axis=1).T\n",
    "mamba_bars = 1 - np.percentile(mamba_acc_per_split, [75, 25], axis=1).T\n",
    "\n",
    "COLORS = {\n",
    "    \"CNN\": \"mediumvioletred\",\n",
    "    \"MAMBA\": \"teal\",\n",
    "}"
   ]
  },
  {
   "cell_type": "code",
   "execution_count": 8,
   "metadata": {},
   "outputs": [],
   "source": [
    "with plt.style.context('analysis/figure.mplstyle'):\n",
    "    fig, ax = plt.subplots()\n",
    "\n",
    "    ax.scatter(x, cnn_err, label=\"CNN\", color=COLORS[\"CNN\"])\n",
    "    ax.scatter(x, mamba_err, label=\"Mamba\", color=COLORS[\"MAMBA\"])\n",
    "\n",
    "    ax.fill_between(x, cnn_bars[:, 0], cnn_bars[:, 1], alpha=0.1, color=COLORS[\"CNN\"])\n",
    "    ax.fill_between(x, mamba_bars[:, 0], mamba_bars[:, 1], alpha=0.1, color=COLORS[\"MAMBA\"])\n",
    "\n",
    "    xlog = np.log(x)\n",
    "\n",
    "    # cnn_trend = np.poly1d(np.polyfit(np.log2(x), cnn_err, 2))\n",
    "    # mamba_trend = np.poly1d(np.polyfit(np.log2(x), mamba_err, 2))\n",
    "    cnn_trend = np.poly1d(np.polyfit(xlog, np.log(cnn_err), 1))\n",
    "    mamba_trend = np.poly1d(np.polyfit(xlog, np.log(mamba_err), 1))\n",
    "\n",
    "    # x_trend\n",
    "    ratio = x[-1] / x[-2]\n",
    "    x_extend = x[-1] * ratio ** np.arange(2)\n",
    "    x_trend = np.hstack([x[:-1], x_extend])\n",
    "    # x_trend = x\n",
    "\n",
    "    cnn_fit = lambda x: np.exp(cnn_trend(np.log(x)))\n",
    "    mamba_fit = lambda x: np.exp(mamba_trend(np.log(x)))\n",
    "\n",
    "    ax.loglog(x_trend, cnn_fit(x_trend), linestyle=\"--\", color=COLORS[\"CNN\"])\n",
    "    ax.loglog(x_trend, mamba_fit(x_trend), linestyle=\"--\", color=COLORS[\"MAMBA\"])\n",
    "\n",
    "\n",
    "\n",
    "    ax.set_xlabel(\"Train dataset size\")\n",
    "    ax.set_ylabel(\"Test error ($\\%$)\")\n",
    "\n",
    "    ax.yaxis.set_minor_formatter(mticker.NullFormatter())\n",
    "\n",
    "    ax.set_yticks(np.arange(0.1, 0.5, 0.1))\n",
    "    ax.yaxis.set_major_formatter(mticker.FuncFormatter(lambda y, _: f\"{y:.0%}\"))\n",
    "    # ax.yaxis.set_major_formatter('{x:g}')\n",
    "    # ax.yaxis.set_major_formatter(mticker.ScalarFormatter())\n",
    "    # ax.yaxis.get_major_formatter().set_scientific(False)\n",
    "    # ax.ticklabel_format(axis=\"y\", style=\"plain\")\n",
    "    # ax.yaxis.set_major_formatter(mticker.FuncFormatter(lambda y, _: f\"{y*100:%}\"))\n",
    "\n",
    "    # ax.yaxis.set_major_formatter(mticker.ScalarFormatter())\n",
    "    # ax.ticklabel_format(axis=\"y\", style=\"plain\")\n",
    "\n",
    "    ax.legend(loc=\"best\")\n",
    "    # fig.tight_layout()\n",
    "    fig.savefig(\"analysis/train-sizes.pdf\", bbox_inches=\"tight\")"
   ]
  }
 ],
 "metadata": {
  "kernelspec": {
   "display_name": "venv",
   "language": "python",
   "name": "python3"
  },
  "language_info": {
   "codemirror_mode": {
    "name": "ipython",
    "version": 3
   },
   "file_extension": ".py",
   "mimetype": "text/x-python",
   "name": "python",
   "nbconvert_exporter": "python",
   "pygments_lexer": "ipython3",
   "version": "3.10.13"
  }
 },
 "nbformat": 4,
 "nbformat_minor": 2
}
