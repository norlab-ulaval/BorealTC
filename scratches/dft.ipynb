{
 "cells": [
  {
   "cell_type": "code",
   "execution_count": 1,
   "metadata": {},
   "outputs": [],
   "source": [
    "import numpy as np\n",
    "from scipy.io import loadmat\n",
    "from pathlib import Path\n",
    "\n",
    "scratches_dir = Path(\"scratches\")"
   ]
  },
  {
   "cell_type": "code",
   "execution_count": 2,
   "metadata": {},
   "outputs": [],
   "source": [
    "data = loadmat(scratches_dir / \"Signal.mat\", matlab_compatible=True)\n",
    "signal = data[\"Signal\"].flatten()"
   ]
  },
  {
   "cell_type": "code",
   "execution_count": 3,
   "metadata": {},
   "outputs": [
    {
     "data": {
      "text/plain": [
       "array([[-0.17534951+0.j        ],\n",
       "       [-0.28121498+0.14163607j],\n",
       "       [ 0.21801846-0.1191667j ],\n",
       "       [-0.03153431-0.12657415j],\n",
       "       [-0.05781928+0.07150411j],\n",
       "       [-0.15665693-0.05802842j],\n",
       "       [-0.19260481+0.01129389j],\n",
       "       [ 0.05428805+0.0564366j ],\n",
       "       [-0.00863817-0.06482095j],\n",
       "       [ 0.09579443-0.13073015j],\n",
       "       [-0.0652899 -0.09488527j],\n",
       "       [-0.0652899 +0.09488527j],\n",
       "       [ 0.09579443+0.13073015j],\n",
       "       [-0.00863817+0.06482095j],\n",
       "       [ 0.05428805-0.0564366j ],\n",
       "       [-0.19260481-0.01129389j],\n",
       "       [-0.15665693+0.05802842j],\n",
       "       [-0.05781928-0.07150411j],\n",
       "       [-0.03153431+0.12657415j],\n",
       "       [ 0.21801846+0.1191667j ],\n",
       "       [-0.28121498-0.14163607j]])"
      ]
     },
     "execution_count": 3,
     "metadata": {},
     "output_type": "execute_result"
    }
   ],
   "source": [
    "np.fft.fft(signal)[:, np.newaxis]"
   ]
  },
  {
   "cell_type": "code",
   "execution_count": 4,
   "metadata": {},
   "outputs": [
    {
     "data": {
      "text/plain": [
       "array([[-0.17534951+0.j        , -0.28121498+0.14163607j,\n",
       "         0.21801846-0.1191667j , -0.03153431-0.12657415j,\n",
       "        -0.05781928+0.07150411j, -0.15665693-0.05802842j,\n",
       "        -0.19260481+0.01129389j,  0.05428805+0.0564366j ,\n",
       "        -0.00863817-0.06482095j,  0.09579443-0.13073015j,\n",
       "        -0.0652899 -0.09488527j, -0.0652899 +0.09488527j,\n",
       "         0.09579443+0.13073015j, -0.00863817+0.06482095j,\n",
       "         0.05428805-0.0564366j , -0.19260481-0.01129389j,\n",
       "        -0.15665693+0.05802842j, -0.05781928-0.07150411j,\n",
       "        -0.03153431+0.12657415j,  0.21801846+0.1191667j ,\n",
       "        -0.28121498-0.14163607j]])"
      ]
     },
     "execution_count": 4,
     "metadata": {},
     "output_type": "execute_result"
    }
   ],
   "source": [
    "np.fft.fft(signal[None, :], axis=1)"
   ]
  },
  {
   "cell_type": "code",
   "execution_count": 5,
   "metadata": {},
   "outputs": [
    {
     "data": {
      "text/plain": [
       "array([[-0.04888878, -0.09777756, -0.04888878],\n",
       "       [-0.09777756, -0.04888878, -0.09777756],\n",
       "       [-0.04888878, -0.09777756, -0.04888878]])"
      ]
     },
     "execution_count": 5,
     "metadata": {},
     "output_type": "execute_result"
    }
   ],
   "source": [
    "values1 = np.vstack([signal, 2*signal, signal])\n",
    "values2 = np.vstack([2*signal, signal, 2*signal])\n",
    "\n",
    "all_values = np.dstack([values1, values2, values1])\n",
    "\n",
    "all_values[:, 0, :]"
   ]
  },
  {
   "cell_type": "code",
   "execution_count": 6,
   "metadata": {},
   "outputs": [
    {
     "data": {
      "text/plain": [
       "(3, 21, 3)"
      ]
     },
     "execution_count": 6,
     "metadata": {},
     "output_type": "execute_result"
    }
   ],
   "source": [
    "ff = np.fft.fft(all_values, axis=1)\n",
    "ff.shape"
   ]
  },
  {
   "cell_type": "code",
   "execution_count": 7,
   "metadata": {},
   "outputs": [
    {
     "data": {
      "text/plain": [
       "array([[-0.28121498+0.14163607j, -0.56242996+0.28327214j,\n",
       "        -0.28121498+0.14163607j],\n",
       "       [-0.56242996+0.28327214j, -0.28121498+0.14163607j,\n",
       "        -0.56242996+0.28327214j],\n",
       "       [-0.28121498+0.14163607j, -0.56242996+0.28327214j,\n",
       "        -0.28121498+0.14163607j]])"
      ]
     },
     "execution_count": 7,
     "metadata": {},
     "output_type": "execute_result"
    }
   ],
   "source": [
    "ff[:, 1, :]"
   ]
  },
  {
   "cell_type": "code",
   "execution_count": 8,
   "metadata": {},
   "outputs": [
    {
     "data": {
      "text/plain": [
       "(3, 21, 3)"
      ]
     },
     "execution_count": 8,
     "metadata": {},
     "output_type": "execute_result"
    }
   ],
   "source": [
    "ff.shape"
   ]
  },
  {
   "cell_type": "code",
   "execution_count": 9,
   "metadata": {},
   "outputs": [
    {
     "data": {
      "text/plain": [
       "(True, True)"
      ]
     },
     "execution_count": 9,
     "metadata": {},
     "output_type": "execute_result"
    }
   ],
   "source": [
    "(all_values[0, :, 0] == all_values[0, :, 2]).all(), (ff[0, :, 0] == ff[0, :, 2]).all()"
   ]
  },
  {
   "cell_type": "code",
   "execution_count": 10,
   "metadata": {},
   "outputs": [
    {
     "data": {
      "text/plain": [
       "array([[0.17534951, 0.35069902, 0.17534951],\n",
       "       [0.31486924, 0.62973849, 0.31486924],\n",
       "       [0.24846076, 0.49692153, 0.24846076],\n",
       "       [0.1304432 , 0.2608864 , 0.1304432 ],\n",
       "       [0.09195601, 0.18391202, 0.09195601],\n",
       "       [0.16705895, 0.3341179 , 0.16705895],\n",
       "       [0.19293565, 0.38587131, 0.19293565],\n",
       "       [0.07830889, 0.15661778, 0.07830889],\n",
       "       [0.06539398, 0.13078797, 0.06539398],\n",
       "       [0.1620708 , 0.32414161, 0.1620708 ],\n",
       "       [0.11517806, 0.23035611, 0.11517806],\n",
       "       [0.11517806, 0.23035611, 0.11517806],\n",
       "       [0.1620708 , 0.32414161, 0.1620708 ],\n",
       "       [0.06539398, 0.13078797, 0.06539398],\n",
       "       [0.07830889, 0.15661778, 0.07830889],\n",
       "       [0.19293565, 0.38587131, 0.19293565],\n",
       "       [0.16705895, 0.3341179 , 0.16705895],\n",
       "       [0.09195601, 0.18391202, 0.09195601],\n",
       "       [0.1304432 , 0.2608864 , 0.1304432 ],\n",
       "       [0.24846076, 0.49692153, 0.24846076],\n",
       "       [0.31486924, 0.62973849, 0.31486924]])"
      ]
     },
     "execution_count": 10,
     "metadata": {},
     "output_type": "execute_result"
    }
   ],
   "source": [
    "np.absolute(ff[0, :])"
   ]
  },
  {
   "cell_type": "code",
   "execution_count": 11,
   "metadata": {},
   "outputs": [],
   "source": [
    "from utils.frequency import DFT\n",
    "\n",
    "sig = np.array(\n",
    "    [\n",
    "        -0.0489,\n",
    "        -0.0055,\n",
    "        0.0077,\n",
    "        0.0032,\n",
    "        -0.0942,\n",
    "        -0.0172,\n",
    "        -0.0514,\n",
    "        -0.0408,\n",
    "        -0.0165,\n",
    "        0.0610,\n",
    "        0.0313,\n",
    "        0.0292,\n",
    "        0.0406,\n",
    "        0.0050,\n",
    "        0.0280,\n",
    "        0.0202,\n",
    "        -0.0176,\n",
    "        -0.0371,\n",
    "        -0.0469,\n",
    "        0.0127,\n",
    "        -0.0380,\n",
    "    ]\n",
    ")\n",
    "\n"
   ]
  },
  {
   "cell_type": "code",
   "execution_count": 12,
   "metadata": {},
   "outputs": [
    {
     "data": {
      "text/plain": [
       "array([-0.0489, -0.0055,  0.0077,  0.0032, -0.0942, -0.0172, -0.0514,\n",
       "       -0.0408, -0.0165,  0.061 ,  0.0313,  0.0292,  0.0406,  0.005 ,\n",
       "        0.028 ,  0.0202, -0.0176, -0.0371, -0.0469,  0.0127, -0.038 ])"
      ]
     },
     "execution_count": 12,
     "metadata": {},
     "output_type": "execute_result"
    }
   ],
   "source": [
    "sig"
   ]
  },
  {
   "cell_type": "code",
   "execution_count": 13,
   "metadata": {},
   "outputs": [
    {
     "data": {
      "text/plain": [
       "(3, 7)"
      ]
     },
     "execution_count": 13,
     "metadata": {},
     "output_type": "execute_result"
    }
   ],
   "source": [
    "a = sig.reshape(3,-1)\n",
    "a.shape"
   ]
  },
  {
   "cell_type": "code",
   "execution_count": 15,
   "metadata": {},
   "outputs": [
    {
     "data": {
      "text/plain": [
       "((3, 22), (20, 7))"
      ]
     },
     "execution_count": 15,
     "metadata": {},
     "output_type": "execute_result"
    }
   ],
   "source": [
    "from utils.frequency import pad_array\n",
    "\n",
    "pad_array(a, (3,22)).shape, pad_array(a, (20,7)).shape"
   ]
  },
  {
   "cell_type": "code",
   "execution_count": 16,
   "metadata": {},
   "outputs": [
    {
     "data": {
      "text/plain": [
       "array([[['CONCRETE', 0, 1, ..., 0.2916625952481284, 2.3, 3.09],\n",
       "        ['CONCRETE', 0, 1, ..., 0.5903063284057355, 2.69, 2.69],\n",
       "        ['CONCRETE', 0, 1, ..., 0.5954920804379141, 2.3, 2.96],\n",
       "        ...,\n",
       "        ['CONCRETE', 0, 1, ..., 0.285331306176866, 2.3, 2.96],\n",
       "        ['CONCRETE', 0, 1, ..., 0.5962398179356218, 3.61, 3.88],\n",
       "        ['CONCRETE', 0, 1, ..., 0.5841941916577885, 4.14, 3.09]],\n",
       "\n",
       "       [['CONCRETE', 0, 1, ..., 0.5601914904457872, 2.3, 2.96],\n",
       "        ['CONCRETE', 0, 1, ..., 0.2950609130990138, 2.3, 3.09],\n",
       "        ['CONCRETE', 0, 1, ..., 0.568778119576662, 2.3, 2.83],\n",
       "        ...,\n",
       "        ['CONCRETE', 0, 1, ..., 0.5595709949153146, 2.3, 2.96],\n",
       "        ['CONCRETE', 0, 1, ..., 0.574152025816794, 2.96, 3.09],\n",
       "        ['CONCRETE', 0, 1, ..., 0.3092216576070826, 2.17, 2.57]],\n",
       "\n",
       "       [['CONCRETE', 0, 1, ..., 0.5486415265310424, 3.35, 4.4],\n",
       "        ['CONCRETE', 0, 1, ..., 0.5874896715685117, 2.57, 2.83],\n",
       "        ['CONCRETE', 0, 1, ..., 0.5859498190916128, 2.43, 3.48],\n",
       "        ...,\n",
       "        ['CONCRETE', 0, 1, ..., 0.5525614655163553, 2.3, 3.48],\n",
       "        ['CONCRETE', 0, 1, ..., 0.5657002404026505, 4.01, 4.66],\n",
       "        ['CONCRETE', 0, 1, ..., 0.5596366002626475, 2.69, 3.48]],\n",
       "\n",
       "       ...,\n",
       "\n",
       "       [['UNPLOUGHED', 3, 5, ..., 0.5955621536878823, 2.3, 2.83],\n",
       "        ['UNPLOUGHED', 3, 5, ..., 0.5637142636171151, 3.09, 2.83],\n",
       "        ['UNPLOUGHED', 3, 5, ..., 0.5616882864936605, 5.98, 6.24],\n",
       "        ...,\n",
       "        ['UNPLOUGHED', 3, 5, ..., 0.576803133003999, 2.57, 2.69],\n",
       "        ['UNPLOUGHED', 3, 5, ..., 0.5756610988342372, 2.3, 2.3],\n",
       "        ['UNPLOUGHED', 3, 5, ..., 0.5598887750540219, 3.48, 2.96]],\n",
       "\n",
       "       [['UNPLOUGHED', 3, 5, ..., 0.5648353659694597, 2.43, 3.88],\n",
       "        ['UNPLOUGHED', 3, 5, ..., 0.3102248566996148, 1.25, 2.3],\n",
       "        ['UNPLOUGHED', 3, 5, ..., 0.564865138087735, 1.25, 1.64],\n",
       "        ...,\n",
       "        ['UNPLOUGHED', 3, 5, ..., 0.547066760502693, 2.69, 3.88],\n",
       "        ['UNPLOUGHED', 3, 5, ..., 0.5801939098678616, 5.45, 6.11],\n",
       "        ['UNPLOUGHED', 3, 5, ..., 0.294615879950924, 4.27, 4.53]],\n",
       "\n",
       "       [['UNPLOUGHED', 3, 5, ..., 0.313007167730009, 0.86, 2.04],\n",
       "        ['UNPLOUGHED', 3, 5, ..., 0.5681276686573876, 0.73, 1.91],\n",
       "        ['UNPLOUGHED', 3, 5, ..., 0.5690627841002119, 2.43, 2.96],\n",
       "        ...,\n",
       "        ['UNPLOUGHED', 3, 5, ..., 0.3058244444954436, 5.85, 4.93],\n",
       "        ['UNPLOUGHED', 3, 5, ..., 0.5815924009330994, 2.57, 3.09],\n",
       "        ['UNPLOUGHED', 3, 5, ..., 0.5473548774799468, 3.48, 3.75]]],\n",
       "      dtype=object)"
      ]
     },
     "execution_count": 16,
     "metadata": {},
     "output_type": "execute_result"
    }
   ],
   "source": [
    "values = np.load(scratches_dir / \"prespect.npy\", allow_pickle=True)\n",
    "values"
   ]
  }
 ],
 "metadata": {
  "kernelspec": {
   "display_name": "venv",
   "language": "python",
   "name": "python3"
  },
  "language_info": {
   "codemirror_mode": {
    "name": "ipython",
    "version": 3
   },
   "file_extension": ".py",
   "mimetype": "text/x-python",
   "name": "python",
   "nbconvert_exporter": "python",
   "pygments_lexer": "ipython3",
   "version": "3.10.13"
  }
 },
 "nbformat": 4,
 "nbformat_minor": 2
}
