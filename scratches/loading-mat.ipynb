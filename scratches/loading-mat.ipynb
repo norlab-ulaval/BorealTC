{
 "cells": [
  {
   "cell_type": "code",
   "execution_count": 1,
   "metadata": {},
   "outputs": [],
   "source": [
    "from pathlib import Path\n",
    "import scipy.io as scio\n",
    "\n",
    "tests_dir = Path(\"tests\")"
   ]
  },
  {
   "cell_type": "code",
   "execution_count": 2,
   "metadata": {},
   "outputs": [
    {
     "name": "stdout",
     "output_type": "stream",
     "text": [
      "tests/1.mat\n",
      "tests/3.mat\n",
      "tests/4.mat\n",
      "tests/2.mat\n"
     ]
    }
   ],
   "source": [
    "for p in tests_dir.rglob(\"*.mat\"):\n",
    "    # data = scio.loadmat(p, matlab_compatible=True)\n",
    "    print(p)"
   ]
  },
  {
   "cell_type": "code",
   "execution_count": 3,
   "metadata": {},
   "outputs": [
    {
     "data": {
      "text/plain": [
       "[('AugTest', (1, 1), 'struct'),\n",
       " ('AugTrain', (1, 1), 'struct'),\n",
       " ('Test', (1, 1), 'struct'),\n",
       " ('Train', (1, 1), 'struct'),\n",
       " ('__function_workspace__', (1, 22016), 'uint8')]"
      ]
     },
     "execution_count": 3,
     "metadata": {},
     "output_type": "execute_result"
    }
   ],
   "source": [
    "scio.whosmat(tests_dir / \"1.mat\")"
   ]
  },
  {
   "cell_type": "code",
   "execution_count": 4,
   "metadata": {},
   "outputs": [],
   "source": [
    "data = scio.loadmat(tests_dir / \"1.mat\", matlab_compatible=True)"
   ]
  },
  {
   "cell_type": "code",
   "execution_count": 5,
   "metadata": {},
   "outputs": [],
   "source": [
    "train = data[\"Train\"]\n",
    "test = data[\"Test\"]\n",
    "aug_train = data[\"AugTrain\"]\n",
    "aug_test = data[\"AugTest\"]"
   ]
  },
  {
   "cell_type": "code",
   "execution_count": 6,
   "metadata": {},
   "outputs": [],
   "source": [
    "data_1 = train[\"folder_1\"].item()[\"data\"].item()\n",
    "time_1 = train[\"folder_1\"].item()[\"time\"].item()"
   ]
  },
  {
   "cell_type": "code",
   "execution_count": 10,
   "metadata": {},
   "outputs": [
    {
     "data": {
      "text/plain": [
       "((250, 6), (125, 2))"
      ]
     },
     "execution_count": 10,
     "metadata": {},
     "output_type": "execute_result"
    }
   ],
   "source": [
    "# 125 partitions of size :\n",
    "    # col 1 : 250 x 6\n",
    "    # col 1 : 76 x 4\n",
    "data_1[0, 0].shape, data_1.shape"
   ]
  }
 ],
 "metadata": {
  "kernelspec": {
   "display_name": "venv",
   "language": "python",
   "name": "python3"
  },
  "language_info": {
   "codemirror_mode": {
    "name": "ipython",
    "version": 3
   },
   "file_extension": ".py",
   "mimetype": "text/x-python",
   "name": "python",
   "nbconvert_exporter": "python",
   "pygments_lexer": "ipython3",
   "version": "3.10.12"
  }
 },
 "nbformat": 4,
 "nbformat_minor": 2
}
