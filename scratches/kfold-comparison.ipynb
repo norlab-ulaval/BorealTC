{
 "cells": [
  {
   "cell_type": "code",
   "execution_count": 1,
   "metadata": {},
   "outputs": [],
   "source": [
    "from pathlib import Path\n",
    "import json\n",
    "import numpy as np\n",
    "import scipy.io as scio\n",
    "\n",
    "scratches_dir = Path(\"scratches\")"
   ]
  },
  {
   "cell_type": "code",
   "execution_count": 2,
   "metadata": {},
   "outputs": [],
   "source": [
    "with open(scratches_dir / \"foldIdx.json\", \"r\") as f:\n",
    "    kfold_py = json.load(f)"
   ]
  },
  {
   "cell_type": "code",
   "execution_count": 3,
   "metadata": {},
   "outputs": [],
   "source": [
    "kfold_mat = scio.loadmat(scratches_dir / \"foldIndex.mat\", matlab_compatible=True)"
   ]
  },
  {
   "cell_type": "code",
   "execution_count": 4,
   "metadata": {},
   "outputs": [],
   "source": [
    "folds_mat = kfold_mat[\"foldIdx\"].flatten()\n",
    "folds_py = kfold_py[\"folds\"]"
   ]
  },
  {
   "cell_type": "code",
   "execution_count": 5,
   "metadata": {},
   "outputs": [
    {
     "name": "stdout",
     "output_type": "stream",
     "text": [
      "0 (125,) (124,)\n",
      "[0 1 2 3 4] [1 2 3 4 5]\n",
      "1 (124,) (125,)\n",
      "[0 1 2 4 5] [0 1 2 5 6]\n",
      "2 (125,) (125,)\n",
      "[1 2 3 5 6] [0 1 3 4 5]\n",
      "3 (125,) (125,)\n",
      "[0 1 3 4 6] [0 2 3 4 6]\n",
      "4 (125,) (125,)\n",
      "[0 2 3 4 5] [0 1 2 3 4]\n"
     ]
    }
   ],
   "source": [
    "for Kidx, (py_kfold, mat_kfold) in enumerate(zip(folds_py, folds_mat)):\n",
    "    np_fold = np.array(py_kfold)\n",
    "    mat_fold = mat_kfold.flatten().astype(int) - 1\n",
    "\n",
    "    print(Kidx, mat_fold.shape, np_fold.shape)\n",
    "    print(mat_fold[:5], np_fold[:5])\n",
    "    # print((mat_fold[:5]== np_fold[:5]).all())"
   ]
  },
  {
   "cell_type": "code",
   "execution_count": 23,
   "metadata": {},
   "outputs": [
    {
     "data": {
      "text/plain": [
       "array([0, 1, 2, 0, 1, 2, 0, 1, 2, 0, 1, 2, 0, 1, 2, 0, 1, 2, 0, 1, 2, 0,\n",
       "       1, 2, 0, 1, 2, 0, 1, 2])"
      ]
     },
     "execution_count": 23,
     "metadata": {},
     "output_type": "execute_result"
    }
   ],
   "source": [
    "labels = np.tile(np.arange(3), 10)\n",
    "labels"
   ]
  },
  {
   "cell_type": "code",
   "execution_count": 42,
   "metadata": {},
   "outputs": [
    {
     "name": "stdout",
     "output_type": "stream",
     "text": [
      "0 (20,)\n",
      "[ 2  7  9 11 12 13 14 15 16 17 18 20 21 22 23 24 25 26 27 28]\n",
      "1 (20,)\n",
      "[ 1  3  4  5  6  7  8  9 10 11 14 15 19 21 24 25 26 28 29 30]\n",
      "2 (20,)\n",
      "[ 1  2  3  4  5  6  8 10 12 13 16 17 18 19 20 22 23 27 29 30]\n"
     ]
    }
   ],
   "source": [
    "from sklearn.model_selection import StratifiedKFold\n",
    "from numpy.random import RandomState\n",
    "\n",
    "rng = RandomState(21)\n",
    "skf = StratifiedKFold(n_splits=3, random_state=rng, shuffle=True)\n",
    "# skf = StratifiedKFold(n_splits=3)\n",
    "\n",
    "for K_idx, (Kfold_train, Kfold_test) in enumerate(skf.split(np.zeros(labels.size), labels)):\n",
    "    print(K_idx, Kfold_train.shape)\n",
    "    print(Kfold_train+1)"
   ]
  },
  {
   "cell_type": "code",
   "execution_count": 39,
   "metadata": {},
   "outputs": [
    {
     "name": "stdout",
     "output_type": "stream",
     "text": [
      "0 (20,)\n",
      "[ 2  7  9 11 12 13 14 15 16 17 18 20 21 22 23 24 25 26 27 28]\n",
      "1 (20,)\n",
      "[ 1  3  4  5  6  7  8  9 10 11 14 15 19 21 24 25 26 28 29 30]\n",
      "2 (20,)\n",
      "[ 1  2  3  4  5  6  8 10 12 13 16 17 18 19 20 22 23 27 29 30]\n"
     ]
    }
   ],
   "source": [
    "import numpy as np\n",
    "np.random.seed(21)\n",
    "\n",
    "skf = StratifiedKFold(n_splits=3, random_state=21, shuffle=True)\n",
    "# skf = StratifiedKFold(n_splits=3)\n",
    "\n",
    "for K_idx, (Kfold_train, Kfold_test) in enumerate(skf.split(np.zeros(labels.size), labels)):\n",
    "    print(K_idx, Kfold_train.shape)\n",
    "    print(Kfold_train+1)"
   ]
  },
  {
   "cell_type": "code",
   "execution_count": 40,
   "metadata": {},
   "outputs": [
    {
     "data": {
      "text/plain": [
       "array([[0.04872488, 0.05077326, 0.06957095],\n",
       "       [0.28910966, 0.30227189, 0.86740448],\n",
       "       [0.72096635, 0.66391029, 0.13324052],\n",
       "       [0.02161625, 0.30811439, 0.17812466],\n",
       "       [0.20592277, 0.58359128, 0.49592955]])"
      ]
     },
     "execution_count": 40,
     "metadata": {},
     "output_type": "execute_result"
    }
   ],
   "source": [
    "rng = RandomState(21)\n",
    "rng.random((3,5)).T"
   ]
  },
  {
   "cell_type": "code",
   "execution_count": 11,
   "metadata": {},
   "outputs": [
    {
     "data": {
      "text/plain": [
       "array([[0.04872488, 0.02161625, 0.30227189, 0.58359128, 0.13324052],\n",
       "       [0.28910966, 0.20592277, 0.66391029, 0.06957095, 0.17812466],\n",
       "       [0.72096635, 0.05077326, 0.30811439, 0.86740448, 0.49592955]])"
      ]
     },
     "execution_count": 11,
     "metadata": {},
     "output_type": "execute_result"
    }
   ],
   "source": [
    "import numpy as np\n",
    "np.random.seed(21)\n",
    "np.random.random((5,3)).T\n"
   ]
  }
 ],
 "metadata": {
  "kernelspec": {
   "display_name": "venv",
   "language": "python",
   "name": "python3"
  },
  "language_info": {
   "codemirror_mode": {
    "name": "ipython",
    "version": 3
   },
   "file_extension": ".py",
   "mimetype": "text/x-python",
   "name": "python",
   "nbconvert_exporter": "python",
   "pygments_lexer": "ipython3",
   "version": "3.10.12"
  }
 },
 "nbformat": 4,
 "nbformat_minor": 2
}
