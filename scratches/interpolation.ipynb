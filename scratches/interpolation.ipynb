{
 "cells": [
  {
   "cell_type": "code",
   "execution_count": 1,
   "metadata": {},
   "outputs": [],
   "source": [
    "import pandas as pd\n",
    "from utils import preprocessing\n",
    "from pathlib import Path"
   ]
  },
  {
   "cell_type": "code",
   "execution_count": 2,
   "metadata": {},
   "outputs": [],
   "source": [
    "# Define channels\n",
    "columns = {\n",
    "    \"imu\": {\n",
    "        \"wx\": True,\n",
    "        \"wy\": True,\n",
    "        \"wz\": True,\n",
    "        \"ax\": True,\n",
    "        \"ay\": True,\n",
    "        \"az\": True,\n",
    "    },\n",
    "    \"pro\": {\n",
    "        \"velL\": True,\n",
    "        \"velR\": True,\n",
    "        \"curL\": True,\n",
    "        \"curR\": True,\n",
    "    },\n",
    "}\n",
    "summary = pd.DataFrame({\"columns\": pd.Series(columns)})\n",
    "\n",
    "csv_dir = Path(\"data\")"
   ]
  },
  {
   "cell_type": "code",
   "execution_count": 3,
   "metadata": {},
   "outputs": [
    {
     "data": {
      "text/plain": [
       "(41025, 9)"
      ]
     },
     "execution_count": 3,
     "metadata": {},
     "output_type": "execute_result"
    }
   ],
   "source": [
    "# Get recordings\n",
    "data = preprocessing.get_recordings(csv_dir, summary)\n",
    "data[\"imu\"].shape"
   ]
  },
  {
   "cell_type": "code",
   "execution_count": 4,
   "metadata": {},
   "outputs": [],
   "source": [
    "# Unmerged columns\n",
    "unmerged = [\"terrain\", \"run_idx\"]\n",
    "\n",
    "# Highest sampling frequency\n",
    "hf_sensor = summary[\"sampling_freq\"].idxmax()\n",
    "hf = summary[\"sampling_freq\"].max()\n",
    "# Other sensors are low frequency\n",
    "lf_sensors = tuple(sens for sens in data.keys() if sens != hf_sensor)\n",
    "\n",
    "merged = []\n",
    "\n",
    "hf_data = data[hf_sensor]\n",
    "terrains = sorted(hf_data.terrain.unique().tolist())\n",
    "terr = terrains[0]\n",
    "terrdat = {sens: sdata[sdata.terrain == terr] for sens, sdata in data.items()}\n",
    "\n",
    "hf_terr = terrdat[hf_sensor]\n",
    "\n",
    "exps = {\n",
    "    sens: sdata[sdata.run_idx == 1].copy().reset_index(drop=True)\n",
    "    for sens, sdata in terrdat.items()\n",
    "}\n",
    "\n",
    "hf_exp = exps[hf_sensor]\n"
   ]
  },
  {
   "cell_type": "code",
   "execution_count": 5,
   "metadata": {},
   "outputs": [
    {
     "data": {
      "text/html": [
       "<div>\n",
       "<style scoped>\n",
       "    .dataframe tbody tr th:only-of-type {\n",
       "        vertical-align: middle;\n",
       "    }\n",
       "\n",
       "    .dataframe tbody tr th {\n",
       "        vertical-align: top;\n",
       "    }\n",
       "\n",
       "    .dataframe thead th {\n",
       "        text-align: right;\n",
       "    }\n",
       "</style>\n",
       "<table border=\"1\" class=\"dataframe\">\n",
       "  <thead>\n",
       "    <tr style=\"text-align: right;\">\n",
       "      <th></th>\n",
       "      <th>time</th>\n",
       "      <th>wx</th>\n",
       "      <th>wy</th>\n",
       "      <th>wz</th>\n",
       "      <th>ax</th>\n",
       "      <th>ay</th>\n",
       "      <th>az</th>\n",
       "      <th>terrain</th>\n",
       "      <th>run_idx</th>\n",
       "    </tr>\n",
       "  </thead>\n",
       "  <tbody>\n",
       "    <tr>\n",
       "      <th>0</th>\n",
       "      <td>0.00</td>\n",
       "      <td>-0.048889</td>\n",
       "      <td>0.131503</td>\n",
       "      <td>-0.010670</td>\n",
       "      <td>0.515528</td>\n",
       "      <td>-0.352803</td>\n",
       "      <td>10.279377</td>\n",
       "      <td>CONCRETE</td>\n",
       "      <td>1</td>\n",
       "    </tr>\n",
       "    <tr>\n",
       "      <th>1</th>\n",
       "      <td>0.02</td>\n",
       "      <td>-0.005499</td>\n",
       "      <td>0.021856</td>\n",
       "      <td>-0.020985</td>\n",
       "      <td>0.345918</td>\n",
       "      <td>-0.216189</td>\n",
       "      <td>9.333001</td>\n",
       "      <td>CONCRETE</td>\n",
       "      <td>1</td>\n",
       "    </tr>\n",
       "    <tr>\n",
       "      <th>2</th>\n",
       "      <td>0.04</td>\n",
       "      <td>0.007669</td>\n",
       "      <td>-0.028620</td>\n",
       "      <td>-0.017898</td>\n",
       "      <td>0.073693</td>\n",
       "      <td>0.379493</td>\n",
       "      <td>9.478169</td>\n",
       "      <td>CONCRETE</td>\n",
       "      <td>1</td>\n",
       "    </tr>\n",
       "    <tr>\n",
       "      <th>3</th>\n",
       "      <td>0.06</td>\n",
       "      <td>0.003153</td>\n",
       "      <td>-0.029832</td>\n",
       "      <td>-0.025182</td>\n",
       "      <td>-0.283525</td>\n",
       "      <td>0.879968</td>\n",
       "      <td>10.009389</td>\n",
       "      <td>CONCRETE</td>\n",
       "      <td>1</td>\n",
       "    </tr>\n",
       "    <tr>\n",
       "      <th>4</th>\n",
       "      <td>0.08</td>\n",
       "      <td>-0.094245</td>\n",
       "      <td>-0.030998</td>\n",
       "      <td>-0.030244</td>\n",
       "      <td>-0.696063</td>\n",
       "      <td>0.726217</td>\n",
       "      <td>10.632477</td>\n",
       "      <td>CONCRETE</td>\n",
       "      <td>1</td>\n",
       "    </tr>\n",
       "  </tbody>\n",
       "</table>\n",
       "</div>"
      ],
      "text/plain": [
       "   time        wx        wy        wz        ax        ay         az  \\\n",
       "0  0.00 -0.048889  0.131503 -0.010670  0.515528 -0.352803  10.279377   \n",
       "1  0.02 -0.005499  0.021856 -0.020985  0.345918 -0.216189   9.333001   \n",
       "2  0.04  0.007669 -0.028620 -0.017898  0.073693  0.379493   9.478169   \n",
       "3  0.06  0.003153 -0.029832 -0.025182 -0.283525  0.879968  10.009389   \n",
       "4  0.08 -0.094245 -0.030998 -0.030244 -0.696063  0.726217  10.632477   \n",
       "\n",
       "    terrain  run_idx  \n",
       "0  CONCRETE        1  \n",
       "1  CONCRETE        1  \n",
       "2  CONCRETE        1  \n",
       "3  CONCRETE        1  \n",
       "4  CONCRETE        1  "
      ]
     },
     "execution_count": 5,
     "metadata": {},
     "output_type": "execute_result"
    }
   ],
   "source": [
    "hf_exp.head()"
   ]
  },
  {
   "cell_type": "code",
   "execution_count": 6,
   "metadata": {},
   "outputs": [
    {
     "data": {
      "text/html": [
       "<div>\n",
       "<style scoped>\n",
       "    .dataframe tbody tr th:only-of-type {\n",
       "        vertical-align: middle;\n",
       "    }\n",
       "\n",
       "    .dataframe tbody tr th {\n",
       "        vertical-align: top;\n",
       "    }\n",
       "\n",
       "    .dataframe thead th {\n",
       "        text-align: right;\n",
       "    }\n",
       "</style>\n",
       "<table border=\"1\" class=\"dataframe\">\n",
       "  <thead>\n",
       "    <tr style=\"text-align: right;\">\n",
       "      <th></th>\n",
       "      <th>time</th>\n",
       "      <th>velL</th>\n",
       "      <th>velR</th>\n",
       "      <th>curL</th>\n",
       "      <th>curR</th>\n",
       "    </tr>\n",
       "  </thead>\n",
       "  <tbody>\n",
       "    <tr>\n",
       "      <th>0</th>\n",
       "      <td>0.000000</td>\n",
       "      <td>0.467364</td>\n",
       "      <td>0.460056</td>\n",
       "      <td>6.11</td>\n",
       "      <td>8.47</td>\n",
       "    </tr>\n",
       "    <tr>\n",
       "      <th>1</th>\n",
       "      <td>0.066667</td>\n",
       "      <td>0.559204</td>\n",
       "      <td>0.559976</td>\n",
       "      <td>3.88</td>\n",
       "      <td>5.58</td>\n",
       "    </tr>\n",
       "    <tr>\n",
       "      <th>2</th>\n",
       "      <td>0.133333</td>\n",
       "      <td>0.300700</td>\n",
       "      <td>0.301682</td>\n",
       "      <td>1.51</td>\n",
       "      <td>2.04</td>\n",
       "    </tr>\n",
       "    <tr>\n",
       "      <th>3</th>\n",
       "      <td>0.200000</td>\n",
       "      <td>0.559321</td>\n",
       "      <td>0.559132</td>\n",
       "      <td>0.00</td>\n",
       "      <td>2.04</td>\n",
       "    </tr>\n",
       "    <tr>\n",
       "      <th>4</th>\n",
       "      <td>0.266667</td>\n",
       "      <td>0.581990</td>\n",
       "      <td>0.582390</td>\n",
       "      <td>2.04</td>\n",
       "      <td>2.96</td>\n",
       "    </tr>\n",
       "  </tbody>\n",
       "</table>\n",
       "</div>"
      ],
      "text/plain": [
       "       time      velL      velR  curL  curR\n",
       "0  0.000000  0.467364  0.460056  6.11  8.47\n",
       "1  0.066667  0.559204  0.559976  3.88  5.58\n",
       "2  0.133333  0.300700  0.301682  1.51  2.04\n",
       "3  0.200000  0.559321  0.559132  0.00  2.04\n",
       "4  0.266667  0.581990  0.582390  2.04  2.96"
      ]
     },
     "execution_count": 6,
     "metadata": {},
     "output_type": "execute_result"
    }
   ],
   "source": [
    "lf_exp = exps[lf_sensors[0]]\n",
    "cols = [c for c in lf_exp.columns if c not in unmerged]\n",
    "lf_exp = lf_exp[cols].copy()\n",
    "lf_exp.head()"
   ]
  },
  {
   "cell_type": "code",
   "execution_count": 14,
   "metadata": {},
   "outputs": [],
   "source": [
    "merged = hf_exp.merge(lf_exp, how=\"outer\", on=\"time\")\n",
    "merged[cols] = merged[cols].ffill()\n",
    "merged = merged.dropna().reset_index(drop=True)\n"
   ]
  },
  {
   "cell_type": "code",
   "execution_count": 23,
   "metadata": {},
   "outputs": [
    {
     "data": {
      "text/plain": [
       "(1018, 9)"
      ]
     },
     "execution_count": 23,
     "metadata": {},
     "output_type": "execute_result"
    }
   ],
   "source": [
    "hf_exp.shape"
   ]
  },
  {
   "cell_type": "code",
   "execution_count": 17,
   "metadata": {},
   "outputs": [
    {
     "data": {
      "text/plain": [
       "0       1\n",
       "1       1\n",
       "2       1\n",
       "3       1\n",
       "4       1\n",
       "       ..\n",
       "1013    1\n",
       "1014    1\n",
       "1015    1\n",
       "1016    1\n",
       "1017    1\n",
       "Name: run_idx, Length: 1018, dtype: int64"
      ]
     },
     "execution_count": 17,
     "metadata": {},
     "output_type": "execute_result"
    }
   ],
   "source": [
    "merged.run_idx.astype(int)"
   ]
  },
  {
   "cell_type": "code",
   "execution_count": 19,
   "metadata": {},
   "outputs": [
    {
     "data": {
      "text/plain": [
       "(0       1\n",
       " 1       1\n",
       " 2       1\n",
       " 3       1\n",
       " 4       1\n",
       "        ..\n",
       " 1013    1\n",
       " 1014    1\n",
       " 1015    1\n",
       " 1016    1\n",
       " 1017    1\n",
       " Name: run_idx, Length: 1018, dtype: int64,\n",
       " 0       1.0\n",
       " 1       1.0\n",
       " 2       1.0\n",
       " 3       1.0\n",
       " 4       1.0\n",
       "        ... \n",
       " 1013    1.0\n",
       " 1014    1.0\n",
       " 1015    1.0\n",
       " 1016    1.0\n",
       " 1017    1.0\n",
       " Name: run_idx, Length: 1018, dtype: float64)"
      ]
     },
     "execution_count": 19,
     "metadata": {},
     "output_type": "execute_result"
    }
   ],
   "source": [
    "hf_exp.run_idx, merged.run_idx"
   ]
  },
  {
   "cell_type": "code",
   "execution_count": 21,
   "metadata": {},
   "outputs": [
    {
     "data": {
      "text/plain": [
       "(1018, 13)"
      ]
     },
     "execution_count": 21,
     "metadata": {},
     "output_type": "execute_result"
    }
   ],
   "source": [
    "from utils.transforms import merge_dfs\n",
    "merge_dfs(exps, hf_sensor).shape"
   ]
  },
  {
   "cell_type": "code",
   "execution_count": 22,
   "metadata": {},
   "outputs": [
    {
     "data": {
      "text/plain": [
       "(1018, 13)"
      ]
     },
     "execution_count": 22,
     "metadata": {},
     "output_type": "execute_result"
    }
   ],
   "source": [
    "merged.shape"
   ]
  }
 ],
 "metadata": {
  "kernelspec": {
   "display_name": "venv",
   "language": "python",
   "name": "python3"
  },
  "language_info": {
   "codemirror_mode": {
    "name": "ipython",
    "version": 3
   },
   "file_extension": ".py",
   "mimetype": "text/x-python",
   "name": "python",
   "nbconvert_exporter": "python",
   "pygments_lexer": "ipython3",
   "version": "3.10.12"
  }
 },
 "nbformat": 4,
 "nbformat_minor": 2
}
